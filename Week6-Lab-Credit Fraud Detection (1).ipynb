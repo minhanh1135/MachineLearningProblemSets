{
 "cells": [
  {
   "cell_type": "markdown",
   "metadata": {
    "colab_type": "text",
    "id": "n0aIPQs2gH51"
   },
   "source": [
    "Credit card fraud detection\n",
    "===\n",
    "\n",
    "Real-life classification problems consist of many cases in which the data is not \"beautifully\" balanced. In such cases, one may find the accuracy score of over 90%, but that may not be the happy ending. This is because we often want to focus only on the minority class, as it plays more important role in such problems. In order to tackle this, we need to come up with proper evaluation metrics and resampling techniques. One of the popular problem regarding imbalanced dataset is Credit Card Fraud Detection. Throughout this problem, we can illustrate well what we need to handle such an imbalanced dataset.\n",
    "\n",
    "\n",
    "### Understanding the dataset\n",
    "\n",
    "- **Class**: 0 - non-fraud, 1 - fraud\n",
    "- **Amount**: Transaction's amount\n",
    "- **V1,V2...V28**: These are anonymous features, due to confidentiality. **Additionally, these are numerical values which are results of PCA transformation**.\n",
    "- **Time**: The amount of seconds elapsed between each transaction and the first transaction in the dataset."
   ]
  },
  {
   "cell_type": "markdown",
   "metadata": {
    "colab_type": "text",
    "id": "pP4jaoGDgH52"
   },
   "source": [
    "## 1. Data Analysis\n",
    "Let's import libraries first:"
   ]
  },
  {
   "cell_type": "code",
   "execution_count": 33,
   "metadata": {
    "colab": {},
    "colab_type": "code",
    "executionInfo": {
     "elapsed": 1271,
     "status": "ok",
     "timestamp": 1596196166188,
     "user": {
      "displayName": "Minh Do",
      "photoUrl": "https://lh3.googleusercontent.com/a-/AOh14GhnQ6aJ2YnaevyJzhii-qGws6Y17w-cwWLqF5iP=s64",
      "userId": "12822549848477954436"
     },
     "user_tz": -420
    },
    "id": "zsWkQqYxgH53"
   },
   "outputs": [],
   "source": [
    "# Import libraries: pandas, numpy, matplotlib, seaborn\n",
    "# Your code here\n",
    "import pandas as pd\n",
    "import numpy as np\n",
    "import matplotlib.pyplot as plt\n",
    "import seaborn as sns\n",
    "import warnings\n",
    "warnings.filterwarnings('ignore')"
   ]
  },
  {
   "cell_type": "markdown",
   "metadata": {
    "colab_type": "text",
    "id": "Uu_XXHr2gH56"
   },
   "source": [
    "#### Read csv file \"creditcard.csv\" as data and take a look at dataset"
   ]
  },
  {
   "cell_type": "code",
   "execution_count": 34,
   "metadata": {
    "colab": {
     "base_uri": "https://localhost:8080/",
     "height": 224
    },
    "colab_type": "code",
    "executionInfo": {
     "elapsed": 3496,
     "status": "ok",
     "timestamp": 1596196168422,
     "user": {
      "displayName": "Minh Do",
      "photoUrl": "https://lh3.googleusercontent.com/a-/AOh14GhnQ6aJ2YnaevyJzhii-qGws6Y17w-cwWLqF5iP=s64",
      "userId": "12822549848477954436"
     },
     "user_tz": -420
    },
    "id": "xAHCwlSsgH56",
    "outputId": "16acc7a7-ea11-487c-f58d-7258ddcaaf97"
   },
   "outputs": [
    {
     "data": {
      "text/html": [
       "<div>\n",
       "<style scoped>\n",
       "    .dataframe tbody tr th:only-of-type {\n",
       "        vertical-align: middle;\n",
       "    }\n",
       "\n",
       "    .dataframe tbody tr th {\n",
       "        vertical-align: top;\n",
       "    }\n",
       "\n",
       "    .dataframe thead th {\n",
       "        text-align: right;\n",
       "    }\n",
       "</style>\n",
       "<table border=\"1\" class=\"dataframe\">\n",
       "  <thead>\n",
       "    <tr style=\"text-align: right;\">\n",
       "      <th></th>\n",
       "      <th>Time</th>\n",
       "      <th>V1</th>\n",
       "      <th>V2</th>\n",
       "      <th>V3</th>\n",
       "      <th>V4</th>\n",
       "      <th>V5</th>\n",
       "      <th>V6</th>\n",
       "      <th>V7</th>\n",
       "      <th>V8</th>\n",
       "      <th>V9</th>\n",
       "      <th>...</th>\n",
       "      <th>V21</th>\n",
       "      <th>V22</th>\n",
       "      <th>V23</th>\n",
       "      <th>V24</th>\n",
       "      <th>V25</th>\n",
       "      <th>V26</th>\n",
       "      <th>V27</th>\n",
       "      <th>V28</th>\n",
       "      <th>Amount</th>\n",
       "      <th>Class</th>\n",
       "    </tr>\n",
       "  </thead>\n",
       "  <tbody>\n",
       "    <tr>\n",
       "      <th>0</th>\n",
       "      <td>0.0</td>\n",
       "      <td>-1.359807</td>\n",
       "      <td>-0.072781</td>\n",
       "      <td>2.536347</td>\n",
       "      <td>1.378155</td>\n",
       "      <td>-0.338321</td>\n",
       "      <td>0.462388</td>\n",
       "      <td>0.239599</td>\n",
       "      <td>0.098698</td>\n",
       "      <td>0.363787</td>\n",
       "      <td>...</td>\n",
       "      <td>-0.018307</td>\n",
       "      <td>0.277838</td>\n",
       "      <td>-0.110474</td>\n",
       "      <td>0.066928</td>\n",
       "      <td>0.128539</td>\n",
       "      <td>-0.189115</td>\n",
       "      <td>0.133558</td>\n",
       "      <td>-0.021053</td>\n",
       "      <td>149.62</td>\n",
       "      <td>0</td>\n",
       "    </tr>\n",
       "    <tr>\n",
       "      <th>1</th>\n",
       "      <td>0.0</td>\n",
       "      <td>1.191857</td>\n",
       "      <td>0.266151</td>\n",
       "      <td>0.166480</td>\n",
       "      <td>0.448154</td>\n",
       "      <td>0.060018</td>\n",
       "      <td>-0.082361</td>\n",
       "      <td>-0.078803</td>\n",
       "      <td>0.085102</td>\n",
       "      <td>-0.255425</td>\n",
       "      <td>...</td>\n",
       "      <td>-0.225775</td>\n",
       "      <td>-0.638672</td>\n",
       "      <td>0.101288</td>\n",
       "      <td>-0.339846</td>\n",
       "      <td>0.167170</td>\n",
       "      <td>0.125895</td>\n",
       "      <td>-0.008983</td>\n",
       "      <td>0.014724</td>\n",
       "      <td>2.69</td>\n",
       "      <td>0</td>\n",
       "    </tr>\n",
       "    <tr>\n",
       "      <th>2</th>\n",
       "      <td>1.0</td>\n",
       "      <td>-1.358354</td>\n",
       "      <td>-1.340163</td>\n",
       "      <td>1.773209</td>\n",
       "      <td>0.379780</td>\n",
       "      <td>-0.503198</td>\n",
       "      <td>1.800499</td>\n",
       "      <td>0.791461</td>\n",
       "      <td>0.247676</td>\n",
       "      <td>-1.514654</td>\n",
       "      <td>...</td>\n",
       "      <td>0.247998</td>\n",
       "      <td>0.771679</td>\n",
       "      <td>0.909412</td>\n",
       "      <td>-0.689281</td>\n",
       "      <td>-0.327642</td>\n",
       "      <td>-0.139097</td>\n",
       "      <td>-0.055353</td>\n",
       "      <td>-0.059752</td>\n",
       "      <td>378.66</td>\n",
       "      <td>0</td>\n",
       "    </tr>\n",
       "    <tr>\n",
       "      <th>3</th>\n",
       "      <td>1.0</td>\n",
       "      <td>-0.966272</td>\n",
       "      <td>-0.185226</td>\n",
       "      <td>1.792993</td>\n",
       "      <td>-0.863291</td>\n",
       "      <td>-0.010309</td>\n",
       "      <td>1.247203</td>\n",
       "      <td>0.237609</td>\n",
       "      <td>0.377436</td>\n",
       "      <td>-1.387024</td>\n",
       "      <td>...</td>\n",
       "      <td>-0.108300</td>\n",
       "      <td>0.005274</td>\n",
       "      <td>-0.190321</td>\n",
       "      <td>-1.175575</td>\n",
       "      <td>0.647376</td>\n",
       "      <td>-0.221929</td>\n",
       "      <td>0.062723</td>\n",
       "      <td>0.061458</td>\n",
       "      <td>123.50</td>\n",
       "      <td>0</td>\n",
       "    </tr>\n",
       "    <tr>\n",
       "      <th>4</th>\n",
       "      <td>2.0</td>\n",
       "      <td>-1.158233</td>\n",
       "      <td>0.877737</td>\n",
       "      <td>1.548718</td>\n",
       "      <td>0.403034</td>\n",
       "      <td>-0.407193</td>\n",
       "      <td>0.095921</td>\n",
       "      <td>0.592941</td>\n",
       "      <td>-0.270533</td>\n",
       "      <td>0.817739</td>\n",
       "      <td>...</td>\n",
       "      <td>-0.009431</td>\n",
       "      <td>0.798278</td>\n",
       "      <td>-0.137458</td>\n",
       "      <td>0.141267</td>\n",
       "      <td>-0.206010</td>\n",
       "      <td>0.502292</td>\n",
       "      <td>0.219422</td>\n",
       "      <td>0.215153</td>\n",
       "      <td>69.99</td>\n",
       "      <td>0</td>\n",
       "    </tr>\n",
       "  </tbody>\n",
       "</table>\n",
       "<p>5 rows × 31 columns</p>\n",
       "</div>"
      ],
      "text/plain": [
       "   Time        V1        V2        V3        V4        V5        V6        V7  \\\n",
       "0   0.0 -1.359807 -0.072781  2.536347  1.378155 -0.338321  0.462388  0.239599   \n",
       "1   0.0  1.191857  0.266151  0.166480  0.448154  0.060018 -0.082361 -0.078803   \n",
       "2   1.0 -1.358354 -1.340163  1.773209  0.379780 -0.503198  1.800499  0.791461   \n",
       "3   1.0 -0.966272 -0.185226  1.792993 -0.863291 -0.010309  1.247203  0.237609   \n",
       "4   2.0 -1.158233  0.877737  1.548718  0.403034 -0.407193  0.095921  0.592941   \n",
       "\n",
       "         V8        V9  ...       V21       V22       V23       V24       V25  \\\n",
       "0  0.098698  0.363787  ... -0.018307  0.277838 -0.110474  0.066928  0.128539   \n",
       "1  0.085102 -0.255425  ... -0.225775 -0.638672  0.101288 -0.339846  0.167170   \n",
       "2  0.247676 -1.514654  ...  0.247998  0.771679  0.909412 -0.689281 -0.327642   \n",
       "3  0.377436 -1.387024  ... -0.108300  0.005274 -0.190321 -1.175575  0.647376   \n",
       "4 -0.270533  0.817739  ... -0.009431  0.798278 -0.137458  0.141267 -0.206010   \n",
       "\n",
       "        V26       V27       V28  Amount  Class  \n",
       "0 -0.189115  0.133558 -0.021053  149.62      0  \n",
       "1  0.125895 -0.008983  0.014724    2.69      0  \n",
       "2 -0.139097 -0.055353 -0.059752  378.66      0  \n",
       "3 -0.221929  0.062723  0.061458  123.50      0  \n",
       "4  0.502292  0.219422  0.215153   69.99      0  \n",
       "\n",
       "[5 rows x 31 columns]"
      ]
     },
     "execution_count": 34,
     "metadata": {},
     "output_type": "execute_result"
    }
   ],
   "source": [
    "data = pd.read_csv('./creditcard.csv')\n",
    "data.head()"
   ]
  },
  {
   "cell_type": "markdown",
   "metadata": {
    "colab_type": "text",
    "id": "GddUH7mygH59"
   },
   "source": [
    "#### Get brief information about dataset, how many observations, columns, columns' type"
   ]
  },
  {
   "cell_type": "code",
   "execution_count": 35,
   "metadata": {
    "colab": {
     "base_uri": "https://localhost:8080/",
     "height": 663
    },
    "colab_type": "code",
    "executionInfo": {
     "elapsed": 3488,
     "status": "ok",
     "timestamp": 1596196168422,
     "user": {
      "displayName": "Minh Do",
      "photoUrl": "https://lh3.googleusercontent.com/a-/AOh14GhnQ6aJ2YnaevyJzhii-qGws6Y17w-cwWLqF5iP=s64",
      "userId": "12822549848477954436"
     },
     "user_tz": -420
    },
    "id": "qiXM2b6ngH59",
    "outputId": "cd658612-3adb-4c41-b4db-8d6038e2e5d6"
   },
   "outputs": [
    {
     "name": "stdout",
     "output_type": "stream",
     "text": [
      "<class 'pandas.core.frame.DataFrame'>\n",
      "RangeIndex: 284807 entries, 0 to 284806\n",
      "Data columns (total 31 columns):\n",
      " #   Column  Non-Null Count   Dtype  \n",
      "---  ------  --------------   -----  \n",
      " 0   Time    284807 non-null  float64\n",
      " 1   V1      284807 non-null  float64\n",
      " 2   V2      284807 non-null  float64\n",
      " 3   V3      284807 non-null  float64\n",
      " 4   V4      284807 non-null  float64\n",
      " 5   V5      284807 non-null  float64\n",
      " 6   V6      284807 non-null  float64\n",
      " 7   V7      284807 non-null  float64\n",
      " 8   V8      284807 non-null  float64\n",
      " 9   V9      284807 non-null  float64\n",
      " 10  V10     284807 non-null  float64\n",
      " 11  V11     284807 non-null  float64\n",
      " 12  V12     284807 non-null  float64\n",
      " 13  V13     284807 non-null  float64\n",
      " 14  V14     284807 non-null  float64\n",
      " 15  V15     284807 non-null  float64\n",
      " 16  V16     284807 non-null  float64\n",
      " 17  V17     284807 non-null  float64\n",
      " 18  V18     284807 non-null  float64\n",
      " 19  V19     284807 non-null  float64\n",
      " 20  V20     284807 non-null  float64\n",
      " 21  V21     284807 non-null  float64\n",
      " 22  V22     284807 non-null  float64\n",
      " 23  V23     284807 non-null  float64\n",
      " 24  V24     284807 non-null  float64\n",
      " 25  V25     284807 non-null  float64\n",
      " 26  V26     284807 non-null  float64\n",
      " 27  V27     284807 non-null  float64\n",
      " 28  V28     284807 non-null  float64\n",
      " 29  Amount  284807 non-null  float64\n",
      " 30  Class   284807 non-null  int64  \n",
      "dtypes: float64(30), int64(1)\n",
      "memory usage: 67.4 MB\n"
     ]
    }
   ],
   "source": [
    "# Your code here\n",
    "data.info()"
   ]
  },
  {
   "cell_type": "code",
   "execution_count": 36,
   "metadata": {
    "colab": {
     "base_uri": "https://localhost:8080/",
     "height": 34
    },
    "colab_type": "code",
    "executionInfo": {
     "elapsed": 3480,
     "status": "ok",
     "timestamp": 1596196168423,
     "user": {
      "displayName": "Minh Do",
      "photoUrl": "https://lh3.googleusercontent.com/a-/AOh14GhnQ6aJ2YnaevyJzhii-qGws6Y17w-cwWLqF5iP=s64",
      "userId": "12822549848477954436"
     },
     "user_tz": -420
    },
    "id": "XvpQkKoAgH6A",
    "outputId": "8627478a-befa-461c-86e7-7b3fe06221d4"
   },
   "outputs": [
    {
     "data": {
      "text/plain": [
       "False"
      ]
     },
     "execution_count": 36,
     "metadata": {},
     "output_type": "execute_result"
    }
   ],
   "source": [
    "# Another way to check for null\n",
    "# hint: isnull()\n",
    "# Your code here\n",
    "data.isnull().values.any()"
   ]
  },
  {
   "cell_type": "code",
   "execution_count": 37,
   "metadata": {
    "colab": {
     "base_uri": "https://localhost:8080/",
     "height": 1000
    },
    "colab_type": "code",
    "executionInfo": {
     "elapsed": 3837,
     "status": "ok",
     "timestamp": 1596196168788,
     "user": {
      "displayName": "Minh Do",
      "photoUrl": "https://lh3.googleusercontent.com/a-/AOh14GhnQ6aJ2YnaevyJzhii-qGws6Y17w-cwWLqF5iP=s64",
      "userId": "12822549848477954436"
     },
     "user_tz": -420
    },
    "id": "KMGyFuvugH6E",
    "outputId": "12d95b9d-9428-4182-b722-737f535b0404"
   },
   "outputs": [
    {
     "data": {
      "text/html": [
       "<div>\n",
       "<style scoped>\n",
       "    .dataframe tbody tr th:only-of-type {\n",
       "        vertical-align: middle;\n",
       "    }\n",
       "\n",
       "    .dataframe tbody tr th {\n",
       "        vertical-align: top;\n",
       "    }\n",
       "\n",
       "    .dataframe thead th {\n",
       "        text-align: right;\n",
       "    }\n",
       "</style>\n",
       "<table border=\"1\" class=\"dataframe\">\n",
       "  <thead>\n",
       "    <tr style=\"text-align: right;\">\n",
       "      <th></th>\n",
       "      <th>count</th>\n",
       "      <th>mean</th>\n",
       "      <th>std</th>\n",
       "      <th>min</th>\n",
       "      <th>25%</th>\n",
       "      <th>50%</th>\n",
       "      <th>75%</th>\n",
       "      <th>max</th>\n",
       "    </tr>\n",
       "  </thead>\n",
       "  <tbody>\n",
       "    <tr>\n",
       "      <th>Time</th>\n",
       "      <td>284807.0</td>\n",
       "      <td>9.481386e+04</td>\n",
       "      <td>47488.145955</td>\n",
       "      <td>0.000000</td>\n",
       "      <td>54201.500000</td>\n",
       "      <td>84692.000000</td>\n",
       "      <td>139320.500000</td>\n",
       "      <td>172792.000000</td>\n",
       "    </tr>\n",
       "    <tr>\n",
       "      <th>V1</th>\n",
       "      <td>284807.0</td>\n",
       "      <td>3.919560e-15</td>\n",
       "      <td>1.958696</td>\n",
       "      <td>-56.407510</td>\n",
       "      <td>-0.920373</td>\n",
       "      <td>0.018109</td>\n",
       "      <td>1.315642</td>\n",
       "      <td>2.454930</td>\n",
       "    </tr>\n",
       "    <tr>\n",
       "      <th>V2</th>\n",
       "      <td>284807.0</td>\n",
       "      <td>5.688174e-16</td>\n",
       "      <td>1.651309</td>\n",
       "      <td>-72.715728</td>\n",
       "      <td>-0.598550</td>\n",
       "      <td>0.065486</td>\n",
       "      <td>0.803724</td>\n",
       "      <td>22.057729</td>\n",
       "    </tr>\n",
       "    <tr>\n",
       "      <th>V3</th>\n",
       "      <td>284807.0</td>\n",
       "      <td>-8.769071e-15</td>\n",
       "      <td>1.516255</td>\n",
       "      <td>-48.325589</td>\n",
       "      <td>-0.890365</td>\n",
       "      <td>0.179846</td>\n",
       "      <td>1.027196</td>\n",
       "      <td>9.382558</td>\n",
       "    </tr>\n",
       "    <tr>\n",
       "      <th>V4</th>\n",
       "      <td>284807.0</td>\n",
       "      <td>2.782312e-15</td>\n",
       "      <td>1.415869</td>\n",
       "      <td>-5.683171</td>\n",
       "      <td>-0.848640</td>\n",
       "      <td>-0.019847</td>\n",
       "      <td>0.743341</td>\n",
       "      <td>16.875344</td>\n",
       "    </tr>\n",
       "    <tr>\n",
       "      <th>V5</th>\n",
       "      <td>284807.0</td>\n",
       "      <td>-1.552563e-15</td>\n",
       "      <td>1.380247</td>\n",
       "      <td>-113.743307</td>\n",
       "      <td>-0.691597</td>\n",
       "      <td>-0.054336</td>\n",
       "      <td>0.611926</td>\n",
       "      <td>34.801666</td>\n",
       "    </tr>\n",
       "    <tr>\n",
       "      <th>V6</th>\n",
       "      <td>284807.0</td>\n",
       "      <td>2.010663e-15</td>\n",
       "      <td>1.332271</td>\n",
       "      <td>-26.160506</td>\n",
       "      <td>-0.768296</td>\n",
       "      <td>-0.274187</td>\n",
       "      <td>0.398565</td>\n",
       "      <td>73.301626</td>\n",
       "    </tr>\n",
       "    <tr>\n",
       "      <th>V7</th>\n",
       "      <td>284807.0</td>\n",
       "      <td>-1.694249e-15</td>\n",
       "      <td>1.237094</td>\n",
       "      <td>-43.557242</td>\n",
       "      <td>-0.554076</td>\n",
       "      <td>0.040103</td>\n",
       "      <td>0.570436</td>\n",
       "      <td>120.589494</td>\n",
       "    </tr>\n",
       "    <tr>\n",
       "      <th>V8</th>\n",
       "      <td>284807.0</td>\n",
       "      <td>-1.927028e-16</td>\n",
       "      <td>1.194353</td>\n",
       "      <td>-73.216718</td>\n",
       "      <td>-0.208630</td>\n",
       "      <td>0.022358</td>\n",
       "      <td>0.327346</td>\n",
       "      <td>20.007208</td>\n",
       "    </tr>\n",
       "    <tr>\n",
       "      <th>V9</th>\n",
       "      <td>284807.0</td>\n",
       "      <td>-3.137024e-15</td>\n",
       "      <td>1.098632</td>\n",
       "      <td>-13.434066</td>\n",
       "      <td>-0.643098</td>\n",
       "      <td>-0.051429</td>\n",
       "      <td>0.597139</td>\n",
       "      <td>15.594995</td>\n",
       "    </tr>\n",
       "    <tr>\n",
       "      <th>V10</th>\n",
       "      <td>284807.0</td>\n",
       "      <td>1.768627e-15</td>\n",
       "      <td>1.088850</td>\n",
       "      <td>-24.588262</td>\n",
       "      <td>-0.535426</td>\n",
       "      <td>-0.092917</td>\n",
       "      <td>0.453923</td>\n",
       "      <td>23.745136</td>\n",
       "    </tr>\n",
       "    <tr>\n",
       "      <th>V11</th>\n",
       "      <td>284807.0</td>\n",
       "      <td>9.170318e-16</td>\n",
       "      <td>1.020713</td>\n",
       "      <td>-4.797473</td>\n",
       "      <td>-0.762494</td>\n",
       "      <td>-0.032757</td>\n",
       "      <td>0.739593</td>\n",
       "      <td>12.018913</td>\n",
       "    </tr>\n",
       "    <tr>\n",
       "      <th>V12</th>\n",
       "      <td>284807.0</td>\n",
       "      <td>-1.810658e-15</td>\n",
       "      <td>0.999201</td>\n",
       "      <td>-18.683715</td>\n",
       "      <td>-0.405571</td>\n",
       "      <td>0.140033</td>\n",
       "      <td>0.618238</td>\n",
       "      <td>7.848392</td>\n",
       "    </tr>\n",
       "    <tr>\n",
       "      <th>V13</th>\n",
       "      <td>284807.0</td>\n",
       "      <td>1.693438e-15</td>\n",
       "      <td>0.995274</td>\n",
       "      <td>-5.791881</td>\n",
       "      <td>-0.648539</td>\n",
       "      <td>-0.013568</td>\n",
       "      <td>0.662505</td>\n",
       "      <td>7.126883</td>\n",
       "    </tr>\n",
       "    <tr>\n",
       "      <th>V14</th>\n",
       "      <td>284807.0</td>\n",
       "      <td>1.479045e-15</td>\n",
       "      <td>0.958596</td>\n",
       "      <td>-19.214325</td>\n",
       "      <td>-0.425574</td>\n",
       "      <td>0.050601</td>\n",
       "      <td>0.493150</td>\n",
       "      <td>10.526766</td>\n",
       "    </tr>\n",
       "    <tr>\n",
       "      <th>V15</th>\n",
       "      <td>284807.0</td>\n",
       "      <td>3.482336e-15</td>\n",
       "      <td>0.915316</td>\n",
       "      <td>-4.498945</td>\n",
       "      <td>-0.582884</td>\n",
       "      <td>0.048072</td>\n",
       "      <td>0.648821</td>\n",
       "      <td>8.877742</td>\n",
       "    </tr>\n",
       "    <tr>\n",
       "      <th>V16</th>\n",
       "      <td>284807.0</td>\n",
       "      <td>1.392007e-15</td>\n",
       "      <td>0.876253</td>\n",
       "      <td>-14.129855</td>\n",
       "      <td>-0.468037</td>\n",
       "      <td>0.066413</td>\n",
       "      <td>0.523296</td>\n",
       "      <td>17.315112</td>\n",
       "    </tr>\n",
       "    <tr>\n",
       "      <th>V17</th>\n",
       "      <td>284807.0</td>\n",
       "      <td>-7.528491e-16</td>\n",
       "      <td>0.849337</td>\n",
       "      <td>-25.162799</td>\n",
       "      <td>-0.483748</td>\n",
       "      <td>-0.065676</td>\n",
       "      <td>0.399675</td>\n",
       "      <td>9.253526</td>\n",
       "    </tr>\n",
       "    <tr>\n",
       "      <th>V18</th>\n",
       "      <td>284807.0</td>\n",
       "      <td>4.328772e-16</td>\n",
       "      <td>0.838176</td>\n",
       "      <td>-9.498746</td>\n",
       "      <td>-0.498850</td>\n",
       "      <td>-0.003636</td>\n",
       "      <td>0.500807</td>\n",
       "      <td>5.041069</td>\n",
       "    </tr>\n",
       "    <tr>\n",
       "      <th>V19</th>\n",
       "      <td>284807.0</td>\n",
       "      <td>9.049732e-16</td>\n",
       "      <td>0.814041</td>\n",
       "      <td>-7.213527</td>\n",
       "      <td>-0.456299</td>\n",
       "      <td>0.003735</td>\n",
       "      <td>0.458949</td>\n",
       "      <td>5.591971</td>\n",
       "    </tr>\n",
       "    <tr>\n",
       "      <th>V20</th>\n",
       "      <td>284807.0</td>\n",
       "      <td>5.085503e-16</td>\n",
       "      <td>0.770925</td>\n",
       "      <td>-54.497720</td>\n",
       "      <td>-0.211721</td>\n",
       "      <td>-0.062481</td>\n",
       "      <td>0.133041</td>\n",
       "      <td>39.420904</td>\n",
       "    </tr>\n",
       "    <tr>\n",
       "      <th>V21</th>\n",
       "      <td>284807.0</td>\n",
       "      <td>1.537294e-16</td>\n",
       "      <td>0.734524</td>\n",
       "      <td>-34.830382</td>\n",
       "      <td>-0.228395</td>\n",
       "      <td>-0.029450</td>\n",
       "      <td>0.186377</td>\n",
       "      <td>27.202839</td>\n",
       "    </tr>\n",
       "    <tr>\n",
       "      <th>V22</th>\n",
       "      <td>284807.0</td>\n",
       "      <td>7.959909e-16</td>\n",
       "      <td>0.725702</td>\n",
       "      <td>-10.933144</td>\n",
       "      <td>-0.542350</td>\n",
       "      <td>0.006782</td>\n",
       "      <td>0.528554</td>\n",
       "      <td>10.503090</td>\n",
       "    </tr>\n",
       "    <tr>\n",
       "      <th>V23</th>\n",
       "      <td>284807.0</td>\n",
       "      <td>5.367590e-16</td>\n",
       "      <td>0.624460</td>\n",
       "      <td>-44.807735</td>\n",
       "      <td>-0.161846</td>\n",
       "      <td>-0.011193</td>\n",
       "      <td>0.147642</td>\n",
       "      <td>22.528412</td>\n",
       "    </tr>\n",
       "    <tr>\n",
       "      <th>V24</th>\n",
       "      <td>284807.0</td>\n",
       "      <td>4.458112e-15</td>\n",
       "      <td>0.605647</td>\n",
       "      <td>-2.836627</td>\n",
       "      <td>-0.354586</td>\n",
       "      <td>0.040976</td>\n",
       "      <td>0.439527</td>\n",
       "      <td>4.584549</td>\n",
       "    </tr>\n",
       "    <tr>\n",
       "      <th>V25</th>\n",
       "      <td>284807.0</td>\n",
       "      <td>1.453003e-15</td>\n",
       "      <td>0.521278</td>\n",
       "      <td>-10.295397</td>\n",
       "      <td>-0.317145</td>\n",
       "      <td>0.016594</td>\n",
       "      <td>0.350716</td>\n",
       "      <td>7.519589</td>\n",
       "    </tr>\n",
       "    <tr>\n",
       "      <th>V26</th>\n",
       "      <td>284807.0</td>\n",
       "      <td>1.699104e-15</td>\n",
       "      <td>0.482227</td>\n",
       "      <td>-2.604551</td>\n",
       "      <td>-0.326984</td>\n",
       "      <td>-0.052139</td>\n",
       "      <td>0.240952</td>\n",
       "      <td>3.517346</td>\n",
       "    </tr>\n",
       "    <tr>\n",
       "      <th>V27</th>\n",
       "      <td>284807.0</td>\n",
       "      <td>-3.660161e-16</td>\n",
       "      <td>0.403632</td>\n",
       "      <td>-22.565679</td>\n",
       "      <td>-0.070840</td>\n",
       "      <td>0.001342</td>\n",
       "      <td>0.091045</td>\n",
       "      <td>31.612198</td>\n",
       "    </tr>\n",
       "    <tr>\n",
       "      <th>V28</th>\n",
       "      <td>284807.0</td>\n",
       "      <td>-1.206049e-16</td>\n",
       "      <td>0.330083</td>\n",
       "      <td>-15.430084</td>\n",
       "      <td>-0.052960</td>\n",
       "      <td>0.011244</td>\n",
       "      <td>0.078280</td>\n",
       "      <td>33.847808</td>\n",
       "    </tr>\n",
       "    <tr>\n",
       "      <th>Amount</th>\n",
       "      <td>284807.0</td>\n",
       "      <td>8.834962e+01</td>\n",
       "      <td>250.120109</td>\n",
       "      <td>0.000000</td>\n",
       "      <td>5.600000</td>\n",
       "      <td>22.000000</td>\n",
       "      <td>77.165000</td>\n",
       "      <td>25691.160000</td>\n",
       "    </tr>\n",
       "    <tr>\n",
       "      <th>Class</th>\n",
       "      <td>284807.0</td>\n",
       "      <td>1.727486e-03</td>\n",
       "      <td>0.041527</td>\n",
       "      <td>0.000000</td>\n",
       "      <td>0.000000</td>\n",
       "      <td>0.000000</td>\n",
       "      <td>0.000000</td>\n",
       "      <td>1.000000</td>\n",
       "    </tr>\n",
       "  </tbody>\n",
       "</table>\n",
       "</div>"
      ],
      "text/plain": [
       "           count          mean           std         min           25%  \\\n",
       "Time    284807.0  9.481386e+04  47488.145955    0.000000  54201.500000   \n",
       "V1      284807.0  3.919560e-15      1.958696  -56.407510     -0.920373   \n",
       "V2      284807.0  5.688174e-16      1.651309  -72.715728     -0.598550   \n",
       "V3      284807.0 -8.769071e-15      1.516255  -48.325589     -0.890365   \n",
       "V4      284807.0  2.782312e-15      1.415869   -5.683171     -0.848640   \n",
       "V5      284807.0 -1.552563e-15      1.380247 -113.743307     -0.691597   \n",
       "V6      284807.0  2.010663e-15      1.332271  -26.160506     -0.768296   \n",
       "V7      284807.0 -1.694249e-15      1.237094  -43.557242     -0.554076   \n",
       "V8      284807.0 -1.927028e-16      1.194353  -73.216718     -0.208630   \n",
       "V9      284807.0 -3.137024e-15      1.098632  -13.434066     -0.643098   \n",
       "V10     284807.0  1.768627e-15      1.088850  -24.588262     -0.535426   \n",
       "V11     284807.0  9.170318e-16      1.020713   -4.797473     -0.762494   \n",
       "V12     284807.0 -1.810658e-15      0.999201  -18.683715     -0.405571   \n",
       "V13     284807.0  1.693438e-15      0.995274   -5.791881     -0.648539   \n",
       "V14     284807.0  1.479045e-15      0.958596  -19.214325     -0.425574   \n",
       "V15     284807.0  3.482336e-15      0.915316   -4.498945     -0.582884   \n",
       "V16     284807.0  1.392007e-15      0.876253  -14.129855     -0.468037   \n",
       "V17     284807.0 -7.528491e-16      0.849337  -25.162799     -0.483748   \n",
       "V18     284807.0  4.328772e-16      0.838176   -9.498746     -0.498850   \n",
       "V19     284807.0  9.049732e-16      0.814041   -7.213527     -0.456299   \n",
       "V20     284807.0  5.085503e-16      0.770925  -54.497720     -0.211721   \n",
       "V21     284807.0  1.537294e-16      0.734524  -34.830382     -0.228395   \n",
       "V22     284807.0  7.959909e-16      0.725702  -10.933144     -0.542350   \n",
       "V23     284807.0  5.367590e-16      0.624460  -44.807735     -0.161846   \n",
       "V24     284807.0  4.458112e-15      0.605647   -2.836627     -0.354586   \n",
       "V25     284807.0  1.453003e-15      0.521278  -10.295397     -0.317145   \n",
       "V26     284807.0  1.699104e-15      0.482227   -2.604551     -0.326984   \n",
       "V27     284807.0 -3.660161e-16      0.403632  -22.565679     -0.070840   \n",
       "V28     284807.0 -1.206049e-16      0.330083  -15.430084     -0.052960   \n",
       "Amount  284807.0  8.834962e+01    250.120109    0.000000      5.600000   \n",
       "Class   284807.0  1.727486e-03      0.041527    0.000000      0.000000   \n",
       "\n",
       "                 50%            75%            max  \n",
       "Time    84692.000000  139320.500000  172792.000000  \n",
       "V1          0.018109       1.315642       2.454930  \n",
       "V2          0.065486       0.803724      22.057729  \n",
       "V3          0.179846       1.027196       9.382558  \n",
       "V4         -0.019847       0.743341      16.875344  \n",
       "V5         -0.054336       0.611926      34.801666  \n",
       "V6         -0.274187       0.398565      73.301626  \n",
       "V7          0.040103       0.570436     120.589494  \n",
       "V8          0.022358       0.327346      20.007208  \n",
       "V9         -0.051429       0.597139      15.594995  \n",
       "V10        -0.092917       0.453923      23.745136  \n",
       "V11        -0.032757       0.739593      12.018913  \n",
       "V12         0.140033       0.618238       7.848392  \n",
       "V13        -0.013568       0.662505       7.126883  \n",
       "V14         0.050601       0.493150      10.526766  \n",
       "V15         0.048072       0.648821       8.877742  \n",
       "V16         0.066413       0.523296      17.315112  \n",
       "V17        -0.065676       0.399675       9.253526  \n",
       "V18        -0.003636       0.500807       5.041069  \n",
       "V19         0.003735       0.458949       5.591971  \n",
       "V20        -0.062481       0.133041      39.420904  \n",
       "V21        -0.029450       0.186377      27.202839  \n",
       "V22         0.006782       0.528554      10.503090  \n",
       "V23        -0.011193       0.147642      22.528412  \n",
       "V24         0.040976       0.439527       4.584549  \n",
       "V25         0.016594       0.350716       7.519589  \n",
       "V26        -0.052139       0.240952       3.517346  \n",
       "V27         0.001342       0.091045      31.612198  \n",
       "V28         0.011244       0.078280      33.847808  \n",
       "Amount     22.000000      77.165000   25691.160000  \n",
       "Class       0.000000       0.000000       1.000000  "
      ]
     },
     "execution_count": 37,
     "metadata": {},
     "output_type": "execute_result"
    }
   ],
   "source": [
    "# Statistical view of dataset\n",
    "# Your code here\n",
    "data.describe().T"
   ]
  },
  {
   "cell_type": "markdown",
   "metadata": {
    "colab_type": "text",
    "id": "eTD_-pSOgH6H"
   },
   "source": [
    "## 2. Explore Data Analysis\n",
    "### Visualization & Preprocessing"
   ]
  },
  {
   "cell_type": "markdown",
   "metadata": {
    "colab_type": "text",
    "id": "-SvK5d5CgH6H"
   },
   "source": [
    "#### Remember the anonymized predictors that is already transformed with PCA ?\n",
    "Let check it, plot histogram for **'V1', 'V2', 'Time', 'Amount'** columns\n",
    "\n",
    "Hint: \n",
    "1. Use `sns.distplot`\n",
    "2. For multiple plots, reference [this](\n",
    "https://jakevdp.github.io/PythonDataScienceHandbook/04.08-multiple-subplots.html#plt.subplot:-Simple-Grids-of-Subplots)"
   ]
  },
  {
   "cell_type": "code",
   "execution_count": 38,
   "metadata": {
    "colab": {
     "base_uri": "https://localhost:8080/",
     "height": 437
    },
    "colab_type": "code",
    "executionInfo": {
     "elapsed": 5479,
     "status": "ok",
     "timestamp": 1596196170438,
     "user": {
      "displayName": "Minh Do",
      "photoUrl": "https://lh3.googleusercontent.com/a-/AOh14GhnQ6aJ2YnaevyJzhii-qGws6Y17w-cwWLqF5iP=s64",
      "userId": "12822549848477954436"
     },
     "user_tz": -420
    },
    "id": "7lSM31J7gH6I",
    "outputId": "c803abaa-b1cd-436a-ea98-cd6621741155",
    "scrolled": false
   },
   "outputs": [
    {
     "data": {
      "image/png": "[encoded data removed]",
      "text/plain": [
       "<Figure size 1080x720 with 4 Axes>"
      ]
     },
     "metadata": {
      "needs_background": "light"
     },
     "output_type": "display_data"
    }
   ],
   "source": [
    "from matplotlib.gridspec import GridSpec\n",
    "plt.figure(figsize=(15, 10)) # Set figsize\n",
    "# Your code here\n",
    "gses = GridSpec(2, 2)\n",
    "column_name = ['V1', 'V2', 'Time', 'Amount']\n",
    "for i, gs in enumerate(gses):\n",
    "    ax = plt.subplot(gs)\n",
    "    sns.distplot(data[column_name[i]])\n",
    "plt.show()"
   ]
  },
  {
   "cell_type": "markdown",
   "metadata": {
    "colab_type": "text",
    "id": "3JTQkUw4gH6K"
   },
   "source": [
    "Here we still have two predictors **Amount** and **Time** that has not been scaled yet. So we need to normalize these features also. Using **sklearn.preprocessing.StandardScaler** for this task."
   ]
  },
  {
   "cell_type": "code",
   "execution_count": 39,
   "metadata": {
    "colab": {
     "base_uri": "https://localhost:8080/",
     "height": 224
    },
    "colab_type": "code",
    "executionInfo": {
     "elapsed": 5470,
     "status": "ok",
     "timestamp": 1596196170439,
     "user": {
      "displayName": "Minh Do",
      "photoUrl": "https://lh3.googleusercontent.com/a-/AOh14GhnQ6aJ2YnaevyJzhii-qGws6Y17w-cwWLqF5iP=s64",
      "userId": "12822549848477954436"
     },
     "user_tz": -420
    },
    "id": "YBBlrnofgH6L",
    "outputId": "580285f9-1f7a-403b-95ab-6e74afae781c"
   },
   "outputs": [
    {
     "data": {
      "text/html": [
       "<div>\n",
       "<style scoped>\n",
       "    .dataframe tbody tr th:only-of-type {\n",
       "        vertical-align: middle;\n",
       "    }\n",
       "\n",
       "    .dataframe tbody tr th {\n",
       "        vertical-align: top;\n",
       "    }\n",
       "\n",
       "    .dataframe thead th {\n",
       "        text-align: right;\n",
       "    }\n",
       "</style>\n",
       "<table border=\"1\" class=\"dataframe\">\n",
       "  <thead>\n",
       "    <tr style=\"text-align: right;\">\n",
       "      <th></th>\n",
       "      <th>Time</th>\n",
       "      <th>V1</th>\n",
       "      <th>V2</th>\n",
       "      <th>V3</th>\n",
       "      <th>V4</th>\n",
       "      <th>V5</th>\n",
       "      <th>V6</th>\n",
       "      <th>V7</th>\n",
       "      <th>V8</th>\n",
       "      <th>V9</th>\n",
       "      <th>...</th>\n",
       "      <th>V21</th>\n",
       "      <th>V22</th>\n",
       "      <th>V23</th>\n",
       "      <th>V24</th>\n",
       "      <th>V25</th>\n",
       "      <th>V26</th>\n",
       "      <th>V27</th>\n",
       "      <th>V28</th>\n",
       "      <th>Amount</th>\n",
       "      <th>Class</th>\n",
       "    </tr>\n",
       "  </thead>\n",
       "  <tbody>\n",
       "    <tr>\n",
       "      <th>0</th>\n",
       "      <td>-1.996583</td>\n",
       "      <td>-1.359807</td>\n",
       "      <td>-0.072781</td>\n",
       "      <td>2.536347</td>\n",
       "      <td>1.378155</td>\n",
       "      <td>-0.338321</td>\n",
       "      <td>0.462388</td>\n",
       "      <td>0.239599</td>\n",
       "      <td>0.098698</td>\n",
       "      <td>0.363787</td>\n",
       "      <td>...</td>\n",
       "      <td>-0.018307</td>\n",
       "      <td>0.277838</td>\n",
       "      <td>-0.110474</td>\n",
       "      <td>0.066928</td>\n",
       "      <td>0.128539</td>\n",
       "      <td>-0.189115</td>\n",
       "      <td>0.133558</td>\n",
       "      <td>-0.021053</td>\n",
       "      <td>0.244964</td>\n",
       "      <td>0</td>\n",
       "    </tr>\n",
       "    <tr>\n",
       "      <th>1</th>\n",
       "      <td>-1.996583</td>\n",
       "      <td>1.191857</td>\n",
       "      <td>0.266151</td>\n",
       "      <td>0.166480</td>\n",
       "      <td>0.448154</td>\n",
       "      <td>0.060018</td>\n",
       "      <td>-0.082361</td>\n",
       "      <td>-0.078803</td>\n",
       "      <td>0.085102</td>\n",
       "      <td>-0.255425</td>\n",
       "      <td>...</td>\n",
       "      <td>-0.225775</td>\n",
       "      <td>-0.638672</td>\n",
       "      <td>0.101288</td>\n",
       "      <td>-0.339846</td>\n",
       "      <td>0.167170</td>\n",
       "      <td>0.125895</td>\n",
       "      <td>-0.008983</td>\n",
       "      <td>0.014724</td>\n",
       "      <td>-0.342475</td>\n",
       "      <td>0</td>\n",
       "    </tr>\n",
       "    <tr>\n",
       "      <th>2</th>\n",
       "      <td>-1.996562</td>\n",
       "      <td>-1.358354</td>\n",
       "      <td>-1.340163</td>\n",
       "      <td>1.773209</td>\n",
       "      <td>0.379780</td>\n",
       "      <td>-0.503198</td>\n",
       "      <td>1.800499</td>\n",
       "      <td>0.791461</td>\n",
       "      <td>0.247676</td>\n",
       "      <td>-1.514654</td>\n",
       "      <td>...</td>\n",
       "      <td>0.247998</td>\n",
       "      <td>0.771679</td>\n",
       "      <td>0.909412</td>\n",
       "      <td>-0.689281</td>\n",
       "      <td>-0.327642</td>\n",
       "      <td>-0.139097</td>\n",
       "      <td>-0.055353</td>\n",
       "      <td>-0.059752</td>\n",
       "      <td>1.160686</td>\n",
       "      <td>0</td>\n",
       "    </tr>\n",
       "    <tr>\n",
       "      <th>3</th>\n",
       "      <td>-1.996562</td>\n",
       "      <td>-0.966272</td>\n",
       "      <td>-0.185226</td>\n",
       "      <td>1.792993</td>\n",
       "      <td>-0.863291</td>\n",
       "      <td>-0.010309</td>\n",
       "      <td>1.247203</td>\n",
       "      <td>0.237609</td>\n",
       "      <td>0.377436</td>\n",
       "      <td>-1.387024</td>\n",
       "      <td>...</td>\n",
       "      <td>-0.108300</td>\n",
       "      <td>0.005274</td>\n",
       "      <td>-0.190321</td>\n",
       "      <td>-1.175575</td>\n",
       "      <td>0.647376</td>\n",
       "      <td>-0.221929</td>\n",
       "      <td>0.062723</td>\n",
       "      <td>0.061458</td>\n",
       "      <td>0.140534</td>\n",
       "      <td>0</td>\n",
       "    </tr>\n",
       "    <tr>\n",
       "      <th>4</th>\n",
       "      <td>-1.996541</td>\n",
       "      <td>-1.158233</td>\n",
       "      <td>0.877737</td>\n",
       "      <td>1.548718</td>\n",
       "      <td>0.403034</td>\n",
       "      <td>-0.407193</td>\n",
       "      <td>0.095921</td>\n",
       "      <td>0.592941</td>\n",
       "      <td>-0.270533</td>\n",
       "      <td>0.817739</td>\n",
       "      <td>...</td>\n",
       "      <td>-0.009431</td>\n",
       "      <td>0.798278</td>\n",
       "      <td>-0.137458</td>\n",
       "      <td>0.141267</td>\n",
       "      <td>-0.206010</td>\n",
       "      <td>0.502292</td>\n",
       "      <td>0.219422</td>\n",
       "      <td>0.215153</td>\n",
       "      <td>-0.073403</td>\n",
       "      <td>0</td>\n",
       "    </tr>\n",
       "  </tbody>\n",
       "</table>\n",
       "<p>5 rows × 31 columns</p>\n",
       "</div>"
      ],
      "text/plain": [
       "       Time        V1        V2        V3        V4        V5        V6  \\\n",
       "0 -1.996583 -1.359807 -0.072781  2.536347  1.378155 -0.338321  0.462388   \n",
       "1 -1.996583  1.191857  0.266151  0.166480  0.448154  0.060018 -0.082361   \n",
       "2 -1.996562 -1.358354 -1.340163  1.773209  0.379780 -0.503198  1.800499   \n",
       "3 -1.996562 -0.966272 -0.185226  1.792993 -0.863291 -0.010309  1.247203   \n",
       "4 -1.996541 -1.158233  0.877737  1.548718  0.403034 -0.407193  0.095921   \n",
       "\n",
       "         V7        V8        V9  ...       V21       V22       V23       V24  \\\n",
       "0  0.239599  0.098698  0.363787  ... -0.018307  0.277838 -0.110474  0.066928   \n",
       "1 -0.078803  0.085102 -0.255425  ... -0.225775 -0.638672  0.101288 -0.339846   \n",
       "2  0.791461  0.247676 -1.514654  ...  0.247998  0.771679  0.909412 -0.689281   \n",
       "3  0.237609  0.377436 -1.387024  ... -0.108300  0.005274 -0.190321 -1.175575   \n",
       "4  0.592941 -0.270533  0.817739  ... -0.009431  0.798278 -0.137458  0.141267   \n",
       "\n",
       "        V25       V26       V27       V28    Amount  Class  \n",
       "0  0.128539 -0.189115  0.133558 -0.021053  0.244964      0  \n",
       "1  0.167170  0.125895 -0.008983  0.014724 -0.342475      0  \n",
       "2 -0.327642 -0.139097 -0.055353 -0.059752  1.160686      0  \n",
       "3  0.647376 -0.221929  0.062723  0.061458  0.140534      0  \n",
       "4 -0.206010  0.502292  0.219422  0.215153 -0.073403      0  \n",
       "\n",
       "[5 rows x 31 columns]"
      ]
     },
     "execution_count": 39,
     "metadata": {},
     "output_type": "execute_result"
    }
   ],
   "source": [
    "from sklearn.preprocessing import StandardScaler\n",
    "\n",
    "# create StandardScaler and assign to std_scaler\n",
    "std_scaler = StandardScaler()\n",
    "\n",
    "# fit_transform \"Amount\", \"Time\" columns and replace old values with transformed values\n",
    "data['Amount'] = std_scaler.fit_transform(data[['Amount']])\n",
    "data['Time'] = std_scaler.fit_transform(data[['Time']])\n",
    "\n",
    "# Let's look at the data again !\n",
    "# Your code here\n",
    "data.head()"
   ]
  },
  {
   "cell_type": "markdown",
   "metadata": {
    "colab_type": "text",
    "id": "LVQVfVBXgH6N"
   },
   "source": [
    "### Plotting histogram for 'V1', 'V2', 'Time', 'Amount' columns again to check result"
   ]
  },
  {
   "cell_type": "code",
   "execution_count": 40,
   "metadata": {
    "colab": {
     "base_uri": "https://localhost:8080/",
     "height": 437
    },
    "colab_type": "code",
    "executionInfo": {
     "elapsed": 6947,
     "status": "ok",
     "timestamp": 1596196171924,
     "user": {
      "displayName": "Minh Do",
      "photoUrl": "https://lh3.googleusercontent.com/a-/AOh14GhnQ6aJ2YnaevyJzhii-qGws6Y17w-cwWLqF5iP=s64",
      "userId": "12822549848477954436"
     },
     "user_tz": -420
    },
    "id": "jH4BM327gH6N",
    "outputId": "fbf74a0b-eca2-4bf6-e753-957a8f85da0e"
   },
   "outputs": [
    {
     "data": {
      "image/png": "[encoded data removed]",
      "text/plain": [
       "<Figure size 1080x720 with 4 Axes>"
      ]
     },
     "metadata": {
      "needs_background": "light"
     },
     "output_type": "display_data"
    }
   ],
   "source": [
    "plt.figure(figsize=(15, 10)) # Set figsize\n",
    "# Your code here\n",
    "gses = GridSpec(2, 2)\n",
    "column_name = ['V1', 'V2', 'Time', 'Amount']\n",
    "for i, gs in enumerate(gses):\n",
    "    ax = plt.subplot(gs)\n",
    "    sns.distplot(data[column_name[i]])\n",
    "plt.show()"
   ]
  },
  {
   "cell_type": "markdown",
   "metadata": {
    "colab_type": "text",
    "id": "IpM5_DbugH6P"
   },
   "source": [
    "### Plotting target classes\n",
    "In order to check how skewed our data is, let's check for the percentage of each class:\n",
    "\n",
    "Hint: Base on \"Class\" columns\n",
    "- **0**: No Fraud\n",
    "- **1**: Fraud"
   ]
  },
  {
   "cell_type": "code",
   "execution_count": 41,
   "metadata": {
    "colab": {
     "base_uri": "https://localhost:8080/",
     "height": 51
    },
    "colab_type": "code",
    "executionInfo": {
     "elapsed": 6938,
     "status": "ok",
     "timestamp": 1596196171925,
     "user": {
      "displayName": "Minh Do",
      "photoUrl": "https://lh3.googleusercontent.com/a-/AOh14GhnQ6aJ2YnaevyJzhii-qGws6Y17w-cwWLqF5iP=s64",
      "userId": "12822549848477954436"
     },
     "user_tz": -420
    },
    "id": "AasFKij6gH6Q",
    "outputId": "4d39f1df-ddad-4e05-86cf-895f07d85f9b"
   },
   "outputs": [
    {
     "name": "stdout",
     "output_type": "stream",
     "text": [
      "Percentage Fraud transactions:  0.1727485630620034\n",
      "Percentage No-fraud transactions:  99.82725143693798\n"
     ]
    }
   ],
   "source": [
    "# Check ratio between classes\n",
    "percentage_fraud = (data['Class'] == 1).sum() / data.shape[0] * 100\n",
    "percentage_no_fraud = (data['Class'] == 0).sum() / data.shape[0] * 100\n",
    "\n",
    "print ('Percentage Fraud transactions: ', percentage_fraud)\n",
    "print ('Percentage No-fraud transactions: ', percentage_no_fraud)"
   ]
  },
  {
   "cell_type": "markdown",
   "metadata": {
    "colab_type": "text",
    "id": "2G5TmI1LgH6S"
   },
   "source": [
    "### Observation:\n",
    "It can be seen that the data is heavily imbalanced.\n",
    "#### Data is beautiful, so let's plot it to visualize the skewness:"
   ]
  },
  {
   "cell_type": "code",
   "execution_count": 42,
   "metadata": {
    "colab": {
     "base_uri": "https://localhost:8080/",
     "height": 442
    },
    "colab_type": "code",
    "executionInfo": {
     "elapsed": 6930,
     "status": "ok",
     "timestamp": 1596196171925,
     "user": {
      "displayName": "Minh Do",
      "photoUrl": "https://lh3.googleusercontent.com/a-/AOh14GhnQ6aJ2YnaevyJzhii-qGws6Y17w-cwWLqF5iP=s64",
      "userId": "12822549848477954436"
     },
     "user_tz": -420
    },
    "id": "Kms8IJMAgH6S",
    "outputId": "e27d6061-401d-443e-87c6-a0757e7eb39d"
   },
   "outputs": [
    {
     "data": {
      "image/png": "[encoded data removed]",
      "text/plain": [
       "<Figure size 504x504 with 1 Axes>"
      ]
     },
     "metadata": {
      "needs_background": "light"
     },
     "output_type": "display_data"
    }
   ],
   "source": [
    "fig = plt.figure(figsize=(7,7)) # Set figsize\n",
    "# Your code here\n",
    "sns.countplot(data=data, x='Class')\n",
    "\n",
    "plt.show()"
   ]
  },
  {
   "cell_type": "markdown",
   "metadata": {
    "colab_type": "text",
    "id": "QabHfFCpgH6V"
   },
   "source": [
    "### Approaches to handle imbalanced data\n",
    "Refs: https://www.analyticsvidhya.com/blog/2017/03/imbalanced-classification-problem/\n",
    "\n",
    "Dealing with imbalanced datasets entails strategies such as improving classification algorithms or balancing classes in the training data (data resampling) before providing the data as input to the machine learning algorithm. The later technique is preferred as it has wider application.\n",
    "\n",
    "#### Data-level techniques (Data resampling):\n",
    "Refs: \n",
    "- https://www.kaggle.com/rafjaa/resampling-strategies-for-imbalanced-datasets\n",
    "- https://beckernick.github.io/oversampling-modeling/\n",
    "\n",
    "Despite the advantage of balancing classes, these techniques also have their weaknesses. The simplest implementation of over-sampling is to duplicate random records from the minority class, which can cause overfitting. Whereas in under-sampling, the simplest technique involves removing random records from the majority class, which can cause loss of information.\n",
    "![alt text](https://raw.githubusercontent.com/rafjaa/machine_learning_fecib/master/src/static/img/resampling.png \"Resampling methods\")\n",
    "\n",
    "- Random over-sampling\n",
    "- Random under-sampling\n",
    "- SMOTE (Synthetic Minority Over-sampling Technique)\n",
    "- ...\n",
    "\n",
    "#### Algorithm-level techniques:\n",
    "- Algorithmic ensemble techniques\n",
    "    - Bagging-based \n",
    "    - Boosting-based\n",
    "    - Adaptive Boosting - Ada Boost\n",
    "    - Gradient Tree Boosting\n",
    "    - XG Boost\n",
    "    - ...\n",
    "\n",
    "#### Improving classification algorithm\n",
    "- Using built-in **class_weight** option from sklearn models:\n",
    "    - Logistic regresion\n",
    "    - [SVM](http://scikit-learn.org/stable/auto_examples/svm/plot_separating_hyperplane_unbalanced.html)\n",
    "    - ...\n"
   ]
  },
  {
   "cell_type": "markdown",
   "metadata": {
    "colab_type": "text",
    "id": "c3XW9vAUgH6V"
   },
   "source": [
    "## Assigning X and y for Original dataset"
   ]
  },
  {
   "cell_type": "code",
   "execution_count": 43,
   "metadata": {
    "colab": {
     "base_uri": "https://localhost:8080/",
     "height": 51
    },
    "colab_type": "code",
    "executionInfo": {
     "elapsed": 6922,
     "status": "ok",
     "timestamp": 1596196171926,
     "user": {
      "displayName": "Minh Do",
      "photoUrl": "https://lh3.googleusercontent.com/a-/AOh14GhnQ6aJ2YnaevyJzhii-qGws6Y17w-cwWLqF5iP=s64",
      "userId": "12822549848477954436"
     },
     "user_tz": -420
    },
    "id": "w5qVd5kkgH6V",
    "outputId": "d6647b32-dd26-4574-c004-5d84e94be2fe"
   },
   "outputs": [
    {
     "name": "stdout",
     "output_type": "stream",
     "text": [
      "X shape: (284807, 30)\n",
      "y shape: (284807,)\n"
     ]
    }
   ],
   "source": [
    "# Original data\n",
    "X = data.drop(columns='Class')\n",
    "y = data['Class']\n",
    "\n",
    "print ('X shape:', X.shape)\n",
    "print ('y shape:', y.shape)"
   ]
  },
  {
   "cell_type": "markdown",
   "metadata": {
    "colab_type": "text",
    "id": "EV2ga-GugH6X"
   },
   "source": [
    "#### Train/Test split original data"
   ]
  },
  {
   "cell_type": "code",
   "execution_count": 44,
   "metadata": {
    "colab": {
     "base_uri": "https://localhost:8080/",
     "height": 0
    },
    "colab_type": "code",
    "executionInfo": {
     "elapsed": 6912,
     "status": "ok",
     "timestamp": 1596196171926,
     "user": {
      "displayName": "Minh Do",
      "photoUrl": "https://lh3.googleusercontent.com/a-/AOh14GhnQ6aJ2YnaevyJzhii-qGws6Y17w-cwWLqF5iP=s64",
      "userId": "12822549848477954436"
     },
     "user_tz": -420
    },
    "id": "PlHXWaVvgH6X",
    "outputId": "a1e2d91c-2cbb-45f4-ec3a-f8cc708f9d20"
   },
   "outputs": [
    {
     "name": "stdout",
     "output_type": "stream",
     "text": [
      "Number transactions training dataset:  199364\n",
      "Number transactions testing dataset:  85443\n",
      "Total number of transactions:  284807\n"
     ]
    }
   ],
   "source": [
    "# import train_test_split\n",
    "# Your code here\n",
    "from sklearn.model_selection import train_test_split\n",
    "# Whole dataset\n",
    "X_train, X_test, y_train, y_test = train_test_split(X, y, test_size=0.3, random_state=101)\n",
    "\n",
    "print(\"Number transactions training dataset: \", len(X_train))\n",
    "print(\"Number transactions testing dataset: \", len(X_test))\n",
    "print(\"Total number of transactions: \", len(X_train)+len(X_test))"
   ]
  },
  {
   "cell_type": "markdown",
   "metadata": {
    "colab_type": "text",
    "id": "Pj_cI0u3gH6Z"
   },
   "source": [
    "## Obtaining smaller training data\n",
    "\n",
    "As the total number of transactions is too large, which may damage your computer. We obtain the smaller training dataset with the same ratio of classes of original training dataset."
   ]
  },
  {
   "cell_type": "code",
   "execution_count": 45,
   "metadata": {
    "colab": {
     "base_uri": "https://localhost:8080/",
     "height": 68
    },
    "colab_type": "code",
    "executionInfo": {
     "elapsed": 6908,
     "status": "ok",
     "timestamp": 1596196171927,
     "user": {
      "displayName": "Minh Do",
      "photoUrl": "https://lh3.googleusercontent.com/a-/AOh14GhnQ6aJ2YnaevyJzhii-qGws6Y17w-cwWLqF5iP=s64",
      "userId": "12822549848477954436"
     },
     "user_tz": -420
    },
    "id": "rhwztp4bgH6Z",
    "outputId": "e7bae142-981c-4d09-98c6-474aded05a09"
   },
   "outputs": [
    {
     "data": {
      "text/plain": [
       "0    199016\n",
       "1       348\n",
       "Name: Class, dtype: int64"
      ]
     },
     "execution_count": 45,
     "metadata": {},
     "output_type": "execute_result"
    }
   ],
   "source": [
    "training_data = pd.concat ([X_train,y_train],axis = 1)\n",
    "training_data['Class'].value_counts()"
   ]
  },
  {
   "cell_type": "code",
   "execution_count": 46,
   "metadata": {
    "colab": {
     "base_uri": "https://localhost:8080/",
     "height": 136
    },
    "colab_type": "code",
    "executionInfo": {
     "elapsed": 6901,
     "status": "ok",
     "timestamp": 1596196171928,
     "user": {
      "displayName": "Minh Do",
      "photoUrl": "https://lh3.googleusercontent.com/a-/AOh14GhnQ6aJ2YnaevyJzhii-qGws6Y17w-cwWLqF5iP=s64",
      "userId": "12822549848477954436"
     },
     "user_tz": -420
    },
    "id": "IPySWsPxgH6c",
    "outputId": "360009d9-d78f-4af1-ee56-5acdab892a4b"
   },
   "outputs": [
    {
     "name": "stdout",
     "output_type": "stream",
     "text": [
      "Percentage original fraud:  0.1727485630620034\n",
      "Percentage original no-fraud:  99.82725143693798\n",
      "Number of newly sub fraud data: 172\n",
      "Number of newly sub non-fraud data: 99827\n"
     ]
    },
    {
     "data": {
      "text/plain": [
       "0    99827\n",
       "1      172\n",
       "Name: Class, dtype: int64"
      ]
     },
     "execution_count": 46,
     "metadata": {},
     "output_type": "execute_result"
    }
   ],
   "source": [
    "print ('Percentage original fraud: ', percentage_fraud)\n",
    "print ('Percentage original no-fraud: ', percentage_no_fraud)\n",
    "number_of_instances = 100000\n",
    "# We will obtain maximum 100.000 data instances with the same class ratio of original data.\n",
    "# Therefore, new data will have 0.17% fraud and 99.83% non-fraud of 100.000.\n",
    "# Which means, new data will have 170 fraud transactions and 99830 non-fraud transactions.\n",
    "\n",
    "number_sub_fraud = int (percentage_fraud/100 * number_of_instances)\n",
    "number_sub_non_fraud = int (percentage_no_fraud/100 * number_of_instances)\n",
    "\n",
    "sub_fraud_data = training_data[training_data['Class'] == 1].head(number_sub_fraud)\n",
    "sub_non_fraud_data = training_data[training_data['Class'] == 0].head(number_sub_non_fraud)\n",
    "\n",
    "print ('Number of newly sub fraud data:',len(sub_fraud_data))\n",
    "print ('Number of newly sub non-fraud data:',len(sub_non_fraud_data))\n",
    "\n",
    "sub_training_data = pd.concat ([sub_fraud_data, sub_non_fraud_data], axis = 0)\n",
    "sub_training_data['Class'].value_counts()"
   ]
  },
  {
   "cell_type": "markdown",
   "metadata": {
    "colab_type": "text",
    "id": "BLNjpqmkgH6d"
   },
   "source": [
    "#### Randomly Under-Sampling the Training Dataset\n",
    "For simplicity, i use DataFrame.sample() to randomly sample the instances of each class:"
   ]
  },
  {
   "cell_type": "code",
   "execution_count": 47,
   "metadata": {
    "colab": {
     "base_uri": "https://localhost:8080/",
     "height": 493
    },
    "colab_type": "code",
    "executionInfo": {
     "elapsed": 6890,
     "status": "ok",
     "timestamp": 1596196171928,
     "user": {
      "displayName": "Minh Do",
      "photoUrl": "https://lh3.googleusercontent.com/a-/AOh14GhnQ6aJ2YnaevyJzhii-qGws6Y17w-cwWLqF5iP=s64",
      "userId": "12822549848477954436"
     },
     "user_tz": -420
    },
    "id": "XMR97dhTgH6e",
    "outputId": "dc3ba8d9-83bb-42f4-a33e-75d4245d8aff"
   },
   "outputs": [
    {
     "name": "stdout",
     "output_type": "stream",
     "text": [
      "Percentage of normal transactions:  0.5\n",
      "Percentage of fraud transactions:  0.5\n",
      "Total number of transactions in resampled data:  344\n"
     ]
    },
    {
     "data": {
      "image/png": "[encoded data removed]",
      "text/plain": [
       "<Figure size 504x504 with 1 Axes>"
      ]
     },
     "metadata": {
      "needs_background": "light"
     },
     "output_type": "display_data"
    }
   ],
   "source": [
    "# Fraud/non-fraud data\n",
    "# Select row which \"Class\" is 1 and save in fraud_data\n",
    "fraud_data = sub_training_data[sub_training_data['Class'] == 1]\n",
    "# Select row which \"Class\" is 0 and save in non_fraud_data\n",
    "non_fraud_data = sub_training_data[sub_training_data['Class'] == 0]\n",
    "\n",
    "# Number of fraud, non-fraud transactions\n",
    "number_records_fraud = fraud_data.shape[0]\n",
    "number_records_non_fraud = non_fraud_data.shape[0]\n",
    "\n",
    "# Using sample function on data frame to randomly select number_records_fraud from non_fraud_data data frame\n",
    "under_sample_non_fraud = non_fraud_data.sample(number_records_fraud)\n",
    "# **concat** under_sample_non_fraud and fraud_data to form under_sample_data\n",
    "under_sample_data = pd.concat([under_sample_non_fraud, fraud_data], axis=0)\n",
    "\n",
    "# Showing ratio\n",
    "print(\"Percentage of normal transactions: \", under_sample_non_fraud.shape[0] / under_sample_data.shape[0])\n",
    "print(\"Percentage of fraud transactions: \", fraud_data.shape[0] / under_sample_data.shape[0])\n",
    "print(\"Total number of transactions in resampled data: \", under_sample_data.shape[0])\n",
    "\n",
    "# Assigning X,y for Under-sampled Data\n",
    "X_train_undersample = under_sample_data.drop(columns=['Class'])\n",
    "y_train_undersample = under_sample_data['Class']\n",
    "\n",
    "# Plot countplot\n",
    "plt.figure(figsize=(7,7))\n",
    "# Make a count plot to show ratio between 2 class on \"Class\" column\n",
    "sns.countplot(data=under_sample_data, x='Class')\n",
    "plt.show()"
   ]
  },
  {
   "cell_type": "markdown",
   "metadata": {
    "colab_type": "text",
    "id": "yelSDnw1gH6g"
   },
   "source": [
    "#### Randomly Over-Sampling the Training Dataset\n",
    "I do the same with over-sampling technique."
   ]
  },
  {
   "cell_type": "code",
   "execution_count": 48,
   "metadata": {
    "colab": {
     "base_uri": "https://localhost:8080/",
     "height": 493
    },
    "colab_type": "code",
    "executionInfo": {
     "elapsed": 7263,
     "status": "ok",
     "timestamp": 1596196172306,
     "user": {
      "displayName": "Minh Do",
      "photoUrl": "https://lh3.googleusercontent.com/a-/AOh14GhnQ6aJ2YnaevyJzhii-qGws6Y17w-cwWLqF5iP=s64",
      "userId": "12822549848477954436"
     },
     "user_tz": -420
    },
    "id": "4MK9coBpgH6g",
    "outputId": "e6c81703-484d-469a-9001-890ae6ec5839"
   },
   "outputs": [
    {
     "name": "stdout",
     "output_type": "stream",
     "text": [
      "Percentage of normal transactions:  0.5\n",
      "Percentage of fraud transactions:  0.0008614903783545533\n",
      "Total number of transactions in resampled data:  199654\n"
     ]
    },
    {
     "data": {
      "image/png": "[encoded data removed]",
      "text/plain": [
       "<Figure size 504x504 with 1 Axes>"
      ]
     },
     "metadata": {
      "needs_background": "light"
     },
     "output_type": "display_data"
    }
   ],
   "source": [
    "# Fraud/non-fraud data\n",
    "# Select row which \"Class\" is 1 and save in fraud_data\n",
    "fraud_data = sub_training_data[sub_training_data['Class'] == 1]\n",
    "# Select row which \"Class\" is 0 and save in non_fraud_data\n",
    "non_fraud_data = sub_training_data[sub_training_data['Class'] == 0]\n",
    "\n",
    "# Number of fraud, non-fraud transactions\n",
    "number_records_fraud = fraud_data.shape[0]\n",
    "number_records_non_fraud = non_fraud_data.shape[0]\n",
    "\n",
    "# Using sample on fraud_data with replacement \"replace = True\",  since we take a larger sample than population\n",
    "over_sample_fraud = fraud_data.sample(replace = True, n=number_records_non_fraud)\n",
    "# **concat** over_sample_fraud and non_fraud_data to form under_sample_data\n",
    "over_sample_data = pd.concat([over_sample_fraud, non_fraud_data], axis=0)\n",
    "\n",
    "# Showing ratio\n",
    "print(\"Percentage of normal transactions: \", non_fraud_data.shape[0]/over_sample_data.shape[0])\n",
    "print(\"Percentage of fraud transactions: \", fraud_data.shape[0]/over_sample_data.shape[0])\n",
    "print(\"Total number of transactions in resampled data: \", over_sample_data.shape[0])\n",
    "\n",
    "# Assigning X, y for over-sampled dataset\n",
    "X_train_oversample = over_sample_data.drop(columns=['Class'])\n",
    "y_train_oversample = over_sample_data['Class']\n",
    "\n",
    "# Plot countplot\n",
    "plt.figure(figsize=(7,7))\n",
    "# Make a count plot to show ratio between 2 class on \"Class\" column\n",
    "sns.countplot(data=over_sample_data, x='Class')\n",
    "plt.show()"
   ]
  },
  {
   "cell_type": "markdown",
   "metadata": {
    "colab_type": "text",
    "id": "rp9cCE8hgH6i"
   },
   "source": [
    "## 3. Modeling"
   ]
  },
  {
   "cell_type": "code",
   "execution_count": 49,
   "metadata": {
    "colab": {},
    "colab_type": "code",
    "executionInfo": {
     "elapsed": 7642,
     "status": "ok",
     "timestamp": 1596196172688,
     "user": {
      "displayName": "Minh Do",
      "photoUrl": "https://lh3.googleusercontent.com/a-/AOh14GhnQ6aJ2YnaevyJzhii-qGws6Y17w-cwWLqF5iP=s64",
      "userId": "12822549848477954436"
     },
     "user_tz": -420
    },
    "id": "5ug_DSakgH6i"
   },
   "outputs": [],
   "source": [
    "# Spot check with LogisticRegression, DecisionTreeClassifier, RandomForestClassifier, BernoulliNB, GaussianNB, SVM\n",
    "# Import lib\n",
    "# Your code here\n",
    "from sklearn.linear_model import LogisticRegression\n",
    "from sklearn.tree import DecisionTreeClassifier\n",
    "from sklearn.ensemble import RandomForestClassifier\n",
    "from sklearn.svm import SVC, LinearSVC\n",
    "from sklearn.naive_bayes import GaussianNB\n",
    "from sklearn.naive_bayes import BernoulliNB\n",
    "\n",
    "\n",
    "lr = LogisticRegression()\n",
    "dtc = DecisionTreeClassifier()\n",
    "rfc = RandomForestClassifier()\n",
    "bnb = BernoulliNB()\n",
    "gnb = GaussianNB()\n",
    "svm = LinearSVC()\n",
    "\n",
    "\n",
    "models = [lr, dtc, rfc, gnb, bnb, svm]\n",
    "models_name = [\"Logistic Regression\", \"Decision Tree\", \"Random Forest\", \"Bernoulli NB\", \"Gaussian NB\", \"SVM\"]"
   ]
  },
  {
   "cell_type": "markdown",
   "metadata": {
    "colab_type": "text",
    "id": "WOsbDxsDgH6k"
   },
   "source": [
    "## 4. Evaluation Metrics\n",
    "This is a clear example where using a typical accuracy score to evaluate our classification algorithm. For example, if we just used a majority class to assign values to all records, we will still be having a high accuracy, BUT WE WOULD BE CLASSIFYING ALL \"1\" INCORRECTLY!\n",
    "\n",
    "\n",
    "[Choosing the right metrics for classification problems](https://medium.com/usf-msds/choosing-the-right-metric-for-evaluating-machine-learning-models-part-2-86d5649a5428)\n",
    "\n",
    "[Evaluation metrics for classification problems](https://medium.com/greyatom/performance-metrics-for-classification-problems-in-machine-learning-part-i-b085d432082b)\n",
    "\n",
    "[What should be used for evaluating a model on an imbalanced data set ?](https://towardsdatascience.com/what-metrics-should-we-use-on-imbalanced-data-set-precision-recall-roc-e2e79252aeba)\n",
    "- Precision + Recall\n",
    "- ROC = TPR + FPR\n",
    "\n",
    "Briefly explained: \n",
    "- **Precision/Recall** focus more on **Positive** class than **Negative** class.\n",
    "- **TPR/FPR (ROC metrics)** measure the ability to distinguish between the classes of model.\n",
    "\n",
    "- The higher the **Precision/Recall**, the better the ability of predicting **Positive** class of the model. \n",
    "- **TPR** is actually **Recall**.\n",
    "- **FPR** is actually **Low Recall** for **Negative** class. The higher the **FPR**, the worse the ability of predicting **Negative** class of the model (which is not a good model).\n"
   ]
  },
  {
   "cell_type": "markdown",
   "metadata": {
    "colab_type": "text",
    "id": "xJht6dPagH6k"
   },
   "source": [
    "### Precision, Recall, F1-score\n",
    "\n",
    "We are very interested in the recall score, because that is the metric that will help us try to capture the most fraudulent transactions. If you think how Accuracy, Precision and Recall work for a confusion matrix, recall would be the most interesting:\n",
    "\n",
    "- **Accuracy** = (TP+TN)/total\n",
    "- **Precision** = TP/(TP+FP)\n",
    "- **Recall** = TP/(TP+FN)\n",
    "- **F1 score** = Harmonic Mean (Precision, Recall) = 2 x Precision x Recall / (Precision + Recall). \n",
    "\n",
    "_Harmonic mean is kind of an average when x and y are equal. But either x or y is smaller, then it is closer to the smaller number as compared to the larger number_. **Ex**: _If x is large and y is small, then arithmetic mean (x+y)/2 is the value between. But harmonic mean 2xy/(x+y) is the lower value._\n",
    "\n",
    "**F1-score vs Accuracy**: F1 Score might be a better measure to use if we need to seek a balance between Precision and Recall AND there is an uneven class distribution (large number of Actual Negatives).\n",
    "\n",
    "- **Positives** = Fraud transactions (the minority class)\n",
    "- **Negatives** = Normal transactions\n",
    "\n",
    "\n",
    "- A **true positive** is an outcome where the model correctly predicts the positive class. Similarly, a **true negative** is an outcome where the model correctly predicts the negative class.\n",
    "- A **false positive** is an outcome where the model incorrectly predicts the positive class. And a **false negative** is an outcome where the model incorrectly predicts the negative class.\n",
    "\n",
    "\n",
    "- **TP**: actually Fraud and predicted as Fraud\n",
    "- **FP**: actually Normal but predicted as Fraud\n",
    "- **TN**: actually Normal and predicted as Normal\n",
    "- **FN**: actually Fraud but predicted as Normal\n",
    "\n",
    "Due to the imbalance issue, many observations can be predicted as Normal transaction, whereas they are acutally Fraud transactions, which is **False Negatives**. **Recall** penalize the False Negatives.\n",
    "\n",
    "Obviously, trying to increase recall, tends to come with a decrease of precision. However, in our case, if we predict that a transaction is fraudulent and turns out not to be, is not a massive problem compared to the opposite situation.\n",
    "\n",
    "- **Precision** = percentage of correctly classified (actual) Fraud transactions over all transactions that are classified/predicted as Fraud. _**Ex**: Our model has a precision of 0.5—in other words, when it predicts a transaction is Fraud, 50% it is correct._\n",
    "- **Recall** = percentage of correctly classified (actual) Fraud transactions over all transactions that are actually Fraud. _**Ex**: Our model has a recall of 0.11 — in other words, it correctly identifies 11% of all Fraud transactions in the dataset._"
   ]
  },
  {
   "cell_type": "code",
   "execution_count": 50,
   "metadata": {
    "colab": {},
    "colab_type": "code",
    "executionInfo": {
     "elapsed": 7640,
     "status": "ok",
     "timestamp": 1596196172689,
     "user": {
      "displayName": "Minh Do",
      "photoUrl": "https://lh3.googleusercontent.com/a-/AOh14GhnQ6aJ2YnaevyJzhii-qGws6Y17w-cwWLqF5iP=s64",
      "userId": "12822549848477954436"
     },
     "user_tz": -420
    },
    "id": "21JzJcxTgH6l"
   },
   "outputs": [],
   "source": [
    "# Import confusion_matrix, classification_report\n",
    "# Your code here\n",
    "from sklearn.metrics import classification_report, confusion_matrix\n",
    "from sklearn.metrics import recall_score, precision_score\n",
    "\n",
    "# We create an utils function, that take a trained model as argument and print out confusion matrix\n",
    "# classification report base on X and y\n",
    "def evaluate_model(estimator, X, y, description):\n",
    "    # Note: We should test on the original test set\n",
    "    prediction = estimator.predict(X)\n",
    "    print('Confusion matrix:\\n', confusion_matrix(y, prediction))\n",
    "    print('Classification report:\\n', classification_report(y, prediction))\n",
    "    print('Testing set information:\\n', \"Your code here\")\n",
    "\n",
    "    # Set print options\n",
    "    np.set_printoptions(precision=2)\n",
    "    model_name = type(estimator).__name__\n",
    "    return {'name': model_name, \n",
    "            'recall': recall_score(y, prediction),\n",
    "            'precision': precision_score(y, prediction),\n",
    "           'description': description}"
   ]
  },
  {
   "cell_type": "markdown",
   "metadata": {
    "colab_type": "text",
    "id": "wwNfv5k6gH6m"
   },
   "source": [
    "#### Evaluate with _Origin_ dataset"
   ]
  },
  {
   "cell_type": "code",
   "execution_count": 51,
   "metadata": {
    "colab": {
     "base_uri": "https://localhost:8080/",
     "height": 0
    },
    "colab_type": "code",
    "executionInfo": {
     "elapsed": 132380,
     "status": "ok",
     "timestamp": 1596196297434,
     "user": {
      "displayName": "Minh Do",
      "photoUrl": "https://lh3.googleusercontent.com/a-/AOh14GhnQ6aJ2YnaevyJzhii-qGws6Y17w-cwWLqF5iP=s64",
      "userId": "12822549848477954436"
     },
     "user_tz": -420
    },
    "id": "4pZdVqKRgH6m",
    "outputId": "57bac27b-93a8-447e-dcdf-4bf05271a3ae"
   },
   "outputs": [
    {
     "name": "stdout",
     "output_type": "stream",
     "text": [
      "Model: Logistic Regression\n",
      "Confusion matrix:\n",
      " [[85288    11]\n",
      " [   49    95]]\n",
      "Classification report:\n",
      "               precision    recall  f1-score   support\n",
      "\n",
      "           0       1.00      1.00      1.00     85299\n",
      "           1       0.90      0.66      0.76       144\n",
      "\n",
      "    accuracy                           1.00     85443\n",
      "   macro avg       0.95      0.83      0.88     85443\n",
      "weighted avg       1.00      1.00      1.00     85443\n",
      "\n",
      "Testing set information:\n",
      " Your code here\n",
      "=======================================\n",
      "Model: Decision Tree\n",
      "Confusion matrix:\n",
      " [[85246    53]\n",
      " [   34   110]]\n",
      "Classification report:\n",
      "               precision    recall  f1-score   support\n",
      "\n",
      "           0       1.00      1.00      1.00     85299\n",
      "           1       0.67      0.76      0.72       144\n",
      "\n",
      "    accuracy                           1.00     85443\n",
      "   macro avg       0.84      0.88      0.86     85443\n",
      "weighted avg       1.00      1.00      1.00     85443\n",
      "\n",
      "Testing set information:\n",
      " Your code here\n",
      "=======================================\n",
      "Model: Random Forest\n",
      "Confusion matrix:\n",
      " [[85292     7]\n",
      " [   32   112]]\n",
      "Classification report:\n",
      "               precision    recall  f1-score   support\n",
      "\n",
      "           0       1.00      1.00      1.00     85299\n",
      "           1       0.94      0.78      0.85       144\n",
      "\n",
      "    accuracy                           1.00     85443\n",
      "   macro avg       0.97      0.89      0.93     85443\n",
      "weighted avg       1.00      1.00      1.00     85443\n",
      "\n",
      "Testing set information:\n",
      " Your code here\n",
      "=======================================\n",
      "Model: Bernoulli NB\n",
      "Confusion matrix:\n",
      " [[83456  1843]\n",
      " [   23   121]]\n",
      "Classification report:\n",
      "               precision    recall  f1-score   support\n",
      "\n",
      "           0       1.00      0.98      0.99     85299\n",
      "           1       0.06      0.84      0.11       144\n",
      "\n",
      "    accuracy                           0.98     85443\n",
      "   macro avg       0.53      0.91      0.55     85443\n",
      "weighted avg       1.00      0.98      0.99     85443\n",
      "\n",
      "Testing set information:\n",
      " Your code here\n",
      "=======================================\n",
      "Model: Gaussian NB\n",
      "Confusion matrix:\n",
      " [[85283    16]\n",
      " [   51    93]]\n",
      "Classification report:\n",
      "               precision    recall  f1-score   support\n",
      "\n",
      "           0       1.00      1.00      1.00     85299\n",
      "           1       0.85      0.65      0.74       144\n",
      "\n",
      "    accuracy                           1.00     85443\n",
      "   macro avg       0.93      0.82      0.87     85443\n",
      "weighted avg       1.00      1.00      1.00     85443\n",
      "\n",
      "Testing set information:\n",
      " Your code here\n",
      "=======================================\n",
      "Model: SVM\n",
      "Confusion matrix:\n",
      " [[85285    14]\n",
      " [   30   114]]\n",
      "Classification report:\n",
      "               precision    recall  f1-score   support\n",
      "\n",
      "           0       1.00      1.00      1.00     85299\n",
      "           1       0.89      0.79      0.84       144\n",
      "\n",
      "    accuracy                           1.00     85443\n",
      "   macro avg       0.95      0.90      0.92     85443\n",
      "weighted avg       1.00      1.00      1.00     85443\n",
      "\n",
      "Testing set information:\n",
      " Your code here\n",
      "=======================================\n"
     ]
    }
   ],
   "source": [
    "# Now we will test on origin dataset (X_train_sub, y_train_sub)\n",
    "# We loop for models\n",
    "# For each model, we train with train_sub dataset\n",
    "# and use evaluate_model function to test with test set\n",
    "X_train_sub = sub_training_data.drop(columns='Class')\n",
    "y_train_sub = sub_training_data['Class']\n",
    "scores_origin = []\n",
    "for idx, model in enumerate(models):\n",
    "    print(\"Model: {}\".format(models_name[idx]))\n",
    "    # Your code here\n",
    "    model.fit(X_train_sub, y_train_sub)\n",
    "    scores_origin.append(evaluate_model(model, X_test, y_test, 'origin'))\n",
    "    \n",
    "    print(\"=======================================\")"
   ]
  },
  {
   "cell_type": "markdown",
   "metadata": {
    "colab_type": "text",
    "id": "ma7JOGd_gH6o"
   },
   "source": [
    "#### Evaluate with *Undersampled* dataset"
   ]
  },
  {
   "cell_type": "code",
   "execution_count": 52,
   "metadata": {
    "colab": {
     "base_uri": "https://localhost:8080/",
     "height": 0
    },
    "colab_type": "code",
    "executionInfo": {
     "elapsed": 134216,
     "status": "ok",
     "timestamp": 1596196299278,
     "user": {
      "displayName": "Minh Do",
      "photoUrl": "https://lh3.googleusercontent.com/a-/AOh14GhnQ6aJ2YnaevyJzhii-qGws6Y17w-cwWLqF5iP=s64",
      "userId": "12822549848477954436"
     },
     "user_tz": -420
    },
    "id": "lrFpmMIAgH6o",
    "outputId": "a1ba1c63-3a85-4fca-c0f2-508a076b647d"
   },
   "outputs": [
    {
     "name": "stdout",
     "output_type": "stream",
     "text": [
      "Model: Logistic Regression\n",
      "Confusion matrix:\n",
      " [[81260  4039]\n",
      " [   10   134]]\n",
      "Classification report:\n",
      "               precision    recall  f1-score   support\n",
      "\n",
      "           0       1.00      0.95      0.98     85299\n",
      "           1       0.03      0.93      0.06       144\n",
      "\n",
      "    accuracy                           0.95     85443\n",
      "   macro avg       0.52      0.94      0.52     85443\n",
      "weighted avg       1.00      0.95      0.97     85443\n",
      "\n",
      "Testing set information:\n",
      " Your code here\n",
      "=======================================\n",
      "Model: Decision Tree\n",
      "Confusion matrix:\n",
      " [[77464  7835]\n",
      " [   12   132]]\n",
      "Classification report:\n",
      "               precision    recall  f1-score   support\n",
      "\n",
      "           0       1.00      0.91      0.95     85299\n",
      "           1       0.02      0.92      0.03       144\n",
      "\n",
      "    accuracy                           0.91     85443\n",
      "   macro avg       0.51      0.91      0.49     85443\n",
      "weighted avg       1.00      0.91      0.95     85443\n",
      "\n",
      "Testing set information:\n",
      " Your code here\n",
      "=======================================\n",
      "Model: Random Forest\n",
      "Confusion matrix:\n",
      " [[81840  3459]\n",
      " [   15   129]]\n",
      "Classification report:\n",
      "               precision    recall  f1-score   support\n",
      "\n",
      "           0       1.00      0.96      0.98     85299\n",
      "           1       0.04      0.90      0.07       144\n",
      "\n",
      "    accuracy                           0.96     85443\n",
      "   macro avg       0.52      0.93      0.52     85443\n",
      "weighted avg       1.00      0.96      0.98     85443\n",
      "\n",
      "Testing set information:\n",
      " Your code here\n",
      "=======================================\n",
      "Model: Bernoulli NB\n",
      "Confusion matrix:\n",
      " [[81022  4277]\n",
      " [   18   126]]\n",
      "Classification report:\n",
      "               precision    recall  f1-score   support\n",
      "\n",
      "           0       1.00      0.95      0.97     85299\n",
      "           1       0.03      0.88      0.06       144\n",
      "\n",
      "    accuracy                           0.95     85443\n",
      "   macro avg       0.51      0.91      0.51     85443\n",
      "weighted avg       1.00      0.95      0.97     85443\n",
      "\n",
      "Testing set information:\n",
      " Your code here\n",
      "=======================================\n",
      "Model: Gaussian NB\n",
      "Confusion matrix:\n",
      " [[84334   965]\n",
      " [   21   123]]\n",
      "Classification report:\n",
      "               precision    recall  f1-score   support\n",
      "\n",
      "           0       1.00      0.99      0.99     85299\n",
      "           1       0.11      0.85      0.20       144\n",
      "\n",
      "    accuracy                           0.99     85443\n",
      "   macro avg       0.56      0.92      0.60     85443\n",
      "weighted avg       1.00      0.99      0.99     85443\n",
      "\n",
      "Testing set information:\n",
      " Your code here\n",
      "=======================================\n",
      "Model: SVM\n",
      "Confusion matrix:\n",
      " [[80275  5024]\n",
      " [   11   133]]\n",
      "Classification report:\n",
      "               precision    recall  f1-score   support\n",
      "\n",
      "           0       1.00      0.94      0.97     85299\n",
      "           1       0.03      0.92      0.05       144\n",
      "\n",
      "    accuracy                           0.94     85443\n",
      "   macro avg       0.51      0.93      0.51     85443\n",
      "weighted avg       1.00      0.94      0.97     85443\n",
      "\n",
      "Testing set information:\n",
      " Your code here\n",
      "=======================================\n"
     ]
    }
   ],
   "source": [
    "# Now we will test on Undersampled dataset (X_train_undersample, y_train_undersample)\n",
    "# We loop for models\n",
    "# For each model, we train with train_undersample dataset\n",
    "# and use evaluate_model function to test with test set\n",
    "scores_under = []\n",
    "for idx, model in enumerate(models):\n",
    "    print(\"Model: {}\".format(models_name[idx]))\n",
    "    # Your code here\n",
    "    model.fit(X_train_undersample, y_train_undersample)\n",
    "    scores_under.append(evaluate_model(model, X_test, y_test, 'under'))\n",
    "    print(\"=======================================\")"
   ]
  },
  {
   "cell_type": "code",
   "execution_count": 53,
   "metadata": {
    "colab": {},
    "colab_type": "code",
    "executionInfo": {
     "elapsed": 134214,
     "status": "ok",
     "timestamp": 1596196299279,
     "user": {
      "displayName": "Minh Do",
      "photoUrl": "https://lh3.googleusercontent.com/a-/AOh14GhnQ6aJ2YnaevyJzhii-qGws6Y17w-cwWLqF5iP=s64",
      "userId": "12822549848477954436"
     },
     "user_tz": -420
    },
    "id": "D3yEZHA_gH6q"
   },
   "outputs": [],
   "source": [
    "df = pd.DataFrame(scores_origin)"
   ]
  },
  {
   "cell_type": "code",
   "execution_count": 54,
   "metadata": {
    "colab": {
     "base_uri": "https://localhost:8080/",
     "height": 0
    },
    "colab_type": "code",
    "executionInfo": {
     "elapsed": 134210,
     "status": "ok",
     "timestamp": 1596196299280,
     "user": {
      "displayName": "Minh Do",
      "photoUrl": "https://lh3.googleusercontent.com/a-/AOh14GhnQ6aJ2YnaevyJzhii-qGws6Y17w-cwWLqF5iP=s64",
      "userId": "12822549848477954436"
     },
     "user_tz": -420
    },
    "id": "Kp0Mcf2DgH6u",
    "outputId": "5fb28eb8-80ab-4760-c431-1c488844f257"
   },
   "outputs": [
    {
     "data": {
      "text/html": [
       "<div>\n",
       "<style scoped>\n",
       "    .dataframe tbody tr th:only-of-type {\n",
       "        vertical-align: middle;\n",
       "    }\n",
       "\n",
       "    .dataframe tbody tr th {\n",
       "        vertical-align: top;\n",
       "    }\n",
       "\n",
       "    .dataframe thead th {\n",
       "        text-align: right;\n",
       "    }\n",
       "</style>\n",
       "<table border=\"1\" class=\"dataframe\">\n",
       "  <thead>\n",
       "    <tr style=\"text-align: right;\">\n",
       "      <th></th>\n",
       "      <th>name</th>\n",
       "      <th>recall</th>\n",
       "      <th>precision</th>\n",
       "      <th>description</th>\n",
       "    </tr>\n",
       "  </thead>\n",
       "  <tbody>\n",
       "    <tr>\n",
       "      <th>0</th>\n",
       "      <td>LogisticRegression</td>\n",
       "      <td>0.659722</td>\n",
       "      <td>0.896226</td>\n",
       "      <td>origin</td>\n",
       "    </tr>\n",
       "    <tr>\n",
       "      <th>1</th>\n",
       "      <td>DecisionTreeClassifier</td>\n",
       "      <td>0.763889</td>\n",
       "      <td>0.674847</td>\n",
       "      <td>origin</td>\n",
       "    </tr>\n",
       "    <tr>\n",
       "      <th>2</th>\n",
       "      <td>RandomForestClassifier</td>\n",
       "      <td>0.777778</td>\n",
       "      <td>0.941176</td>\n",
       "      <td>origin</td>\n",
       "    </tr>\n",
       "    <tr>\n",
       "      <th>3</th>\n",
       "      <td>GaussianNB</td>\n",
       "      <td>0.840278</td>\n",
       "      <td>0.061609</td>\n",
       "      <td>origin</td>\n",
       "    </tr>\n",
       "    <tr>\n",
       "      <th>4</th>\n",
       "      <td>BernoulliNB</td>\n",
       "      <td>0.645833</td>\n",
       "      <td>0.853211</td>\n",
       "      <td>origin</td>\n",
       "    </tr>\n",
       "  </tbody>\n",
       "</table>\n",
       "</div>"
      ],
      "text/plain": [
       "                     name    recall  precision description\n",
       "0      LogisticRegression  0.659722   0.896226      origin\n",
       "1  DecisionTreeClassifier  0.763889   0.674847      origin\n",
       "2  RandomForestClassifier  0.777778   0.941176      origin\n",
       "3              GaussianNB  0.840278   0.061609      origin\n",
       "4             BernoulliNB  0.645833   0.853211      origin"
      ]
     },
     "execution_count": 54,
     "metadata": {},
     "output_type": "execute_result"
    }
   ],
   "source": [
    "df.head()"
   ]
  },
  {
   "cell_type": "markdown",
   "metadata": {
    "colab_type": "text",
    "id": "3Zw-eFcSgH6v"
   },
   "source": [
    "#### Evaluate with *Oversampled* dataset"
   ]
  },
  {
   "cell_type": "code",
   "execution_count": 55,
   "metadata": {
    "colab": {
     "base_uri": "https://localhost:8080/",
     "height": 0
    },
    "colab_type": "code",
    "executionInfo": {
     "elapsed": 254427,
     "status": "ok",
     "timestamp": 1596196419502,
     "user": {
      "displayName": "Minh Do",
      "photoUrl": "https://lh3.googleusercontent.com/a-/AOh14GhnQ6aJ2YnaevyJzhii-qGws6Y17w-cwWLqF5iP=s64",
      "userId": "12822549848477954436"
     },
     "user_tz": -420
    },
    "id": "QL6QOjBPgH6w",
    "outputId": "fbb693d3-b877-4a6e-cdea-528539949ecd"
   },
   "outputs": [
    {
     "name": "stdout",
     "output_type": "stream",
     "text": [
      "Model: Logistic Regression\n",
      "Confusion matrix:\n",
      " [[83172  2127]\n",
      " [   14   130]]\n",
      "Classification report:\n",
      "               precision    recall  f1-score   support\n",
      "\n",
      "           0       1.00      0.98      0.99     85299\n",
      "           1       0.06      0.90      0.11       144\n",
      "\n",
      "    accuracy                           0.97     85443\n",
      "   macro avg       0.53      0.94      0.55     85443\n",
      "weighted avg       1.00      0.97      0.99     85443\n",
      "\n",
      "Testing set information:\n",
      " Your code here\n",
      "=======================================\n",
      "Model: Decision Tree\n",
      "Confusion matrix:\n",
      " [[85261    38]\n",
      " [   49    95]]\n",
      "Classification report:\n",
      "               precision    recall  f1-score   support\n",
      "\n",
      "           0       1.00      1.00      1.00     85299\n",
      "           1       0.71      0.66      0.69       144\n",
      "\n",
      "    accuracy                           1.00     85443\n",
      "   macro avg       0.86      0.83      0.84     85443\n",
      "weighted avg       1.00      1.00      1.00     85443\n",
      "\n",
      "Testing set information:\n",
      " Your code here\n",
      "=======================================\n",
      "Model: Random Forest\n",
      "Confusion matrix:\n",
      " [[85293     6]\n",
      " [   33   111]]\n",
      "Classification report:\n",
      "               precision    recall  f1-score   support\n",
      "\n",
      "           0       1.00      1.00      1.00     85299\n",
      "           1       0.95      0.77      0.85       144\n",
      "\n",
      "    accuracy                           1.00     85443\n",
      "   macro avg       0.97      0.89      0.93     85443\n",
      "weighted avg       1.00      1.00      1.00     85443\n",
      "\n",
      "Testing set information:\n",
      " Your code here\n",
      "=======================================\n",
      "Model: Bernoulli NB\n",
      "Confusion matrix:\n",
      " [[83109  2190]\n",
      " [   21   123]]\n",
      "Classification report:\n",
      "               precision    recall  f1-score   support\n",
      "\n",
      "           0       1.00      0.97      0.99     85299\n",
      "           1       0.05      0.85      0.10       144\n",
      "\n",
      "    accuracy                           0.97     85443\n",
      "   macro avg       0.53      0.91      0.54     85443\n",
      "weighted avg       1.00      0.97      0.99     85443\n",
      "\n",
      "Testing set information:\n",
      " Your code here\n",
      "=======================================\n",
      "Model: Gaussian NB\n",
      "Confusion matrix:\n",
      " [[84646   653]\n",
      " [   22   122]]\n",
      "Classification report:\n",
      "               precision    recall  f1-score   support\n",
      "\n",
      "           0       1.00      0.99      1.00     85299\n",
      "           1       0.16      0.85      0.27       144\n",
      "\n",
      "    accuracy                           0.99     85443\n",
      "   macro avg       0.58      0.92      0.63     85443\n",
      "weighted avg       1.00      0.99      0.99     85443\n",
      "\n",
      "Testing set information:\n",
      " Your code here\n",
      "=======================================\n",
      "Model: SVM\n",
      "Confusion matrix:\n",
      " [[83369  1930]\n",
      " [   12   132]]\n",
      "Classification report:\n",
      "               precision    recall  f1-score   support\n",
      "\n",
      "           0       1.00      0.98      0.99     85299\n",
      "           1       0.06      0.92      0.12       144\n",
      "\n",
      "    accuracy                           0.98     85443\n",
      "   macro avg       0.53      0.95      0.55     85443\n",
      "weighted avg       1.00      0.98      0.99     85443\n",
      "\n",
      "Testing set information:\n",
      " Your code here\n",
      "=======================================\n"
     ]
    }
   ],
   "source": [
    "# Now we will test on Oversampled dataset (X_train_oversample, y_train_oversample)\n",
    "# We loop for models\n",
    "# For each model, we train with train_oversample dataset\n",
    "# and use evaluate_model function to test with test set\n",
    "scores_over = []\n",
    "for idx, model in enumerate(models):\n",
    "    print(\"Model: {}\".format(models_name[idx]))\n",
    "    model.fit(X_train_oversample, y_train_oversample)\n",
    "    scores_over.append(evaluate_model(model, X_test, y_test, 'oversample'))\n",
    "    # Your code here\n",
    "    print(\"=======================================\")"
   ]
  },
  {
   "cell_type": "markdown",
   "metadata": {
    "colab_type": "text",
    "id": "JvsSiQx3gH6x"
   },
   "source": [
    "### Extra\n",
    "[imbalanced-learn](https://imbalanced-learn.readthedocs.io/en/stable/index.html) is a python package offering a number of re-sampling techniques commonly used in datasets showing strong between-class imbalance. It is compatible with scikit-learn and is part of scikit-learn-contrib projects.\n",
    "\n",
    "List of supported resample methods: [link](https://pypi.org/project/imbalanced-learn/)"
   ]
  },
  {
   "cell_type": "markdown",
   "metadata": {
    "colab_type": "text",
    "id": "L1cgkAI6gH7D"
   },
   "source": [
    "## 5. GridsearchCV"
   ]
  },
  {
   "cell_type": "markdown",
   "metadata": {
    "colab_type": "text",
    "id": "D-Adqg0ggH7D"
   },
   "source": [
    "- Pipeline: http://queirozf.com/entries/scikit-learn-pipeline-examples\n",
    "- GridsearchCV: https://chrisalbon.com/machine_learning/model_evaluation/cross_validation_parameter_tuning_grid_search/\n",
    "- GridsearchCV scorer:https://towardsdatascience.com/fine-tuning-a-classifier-in-scikit-learn-66e048c21e65"
   ]
  },
  {
   "cell_type": "code",
   "execution_count": 60,
   "metadata": {
    "colab": {},
    "colab_type": "code",
    "id": "xcwR8ANjgH7D"
   },
   "outputs": [],
   "source": [
    "# Import Pipeline and GridSearchCV\n",
    "from sklearn.pipeline import Pipeline\n",
    "from sklearn.model_selection import GridSearchCV"
   ]
  },
  {
   "cell_type": "code",
   "execution_count": 61,
   "metadata": {
    "colab": {},
    "colab_type": "code",
    "id": "CXeMZeG4gH7F"
   },
   "outputs": [],
   "source": [
    "step = []\n",
    "# append a step 'cls' with value is LogisticRegression to step variable\n",
    "# Your code here\n",
    "step.append(['cls', LogisticRegression()])\n",
    "# Create Pipeline with defined step\n",
    "ppl = Pipeline(step)"
   ]
  },
  {
   "cell_type": "code",
   "execution_count": 62,
   "metadata": {
    "colab": {},
    "colab_type": "code",
    "id": "79RaNmQkgH7H"
   },
   "outputs": [],
   "source": [
    "# Define params grid, gridsearch cv go throuh each item in params_grid\n",
    "# For each item, it changes param of Pipeline base on \"key\" of item\n",
    "params_grid = {\n",
    "    \"cls\": models\n",
    "}"
   ]
  },
  {
   "cell_type": "code",
   "execution_count": 63,
   "metadata": {
    "colab": {},
    "colab_type": "code",
    "id": "kNkEZPWjgH7J"
   },
   "outputs": [],
   "source": [
    "from sklearn.metrics import roc_curve, precision_recall_curve, auc, make_scorer, recall_score, accuracy_score, precision_score, confusion_matrix\n",
    "# Define metrics to evaluate model\n",
    "scorers = {\n",
    "    'recall_score': make_scorer(recall_score),\n",
    "    'precision_score': make_scorer(precision_score),\n",
    "    'accuracy_score': make_scorer(accuracy_score)\n",
    "}"
   ]
  },
  {
   "cell_type": "code",
   "execution_count": 64,
   "metadata": {
    "colab": {},
    "colab_type": "code",
    "id": "i48ryZIEgH7L"
   },
   "outputs": [],
   "source": [
    "# Create GridSearchCV with Pipeline as estimator and params_grid\n",
    "gridcv = GridSearchCV(ppl, param_grid=params_grid, scoring=scorers, refit='recall_score', return_train_score=True, verbose=5)"
   ]
  },
  {
   "cell_type": "code",
   "execution_count": 65,
   "metadata": {
    "colab": {},
    "colab_type": "code",
    "id": "kZFNjEyVgH7O"
   },
   "outputs": [
    {
     "name": "stdout",
     "output_type": "stream",
     "text": [
      "Fitting 5 folds for each of 6 candidates, totalling 30 fits\n",
      "[CV] cls=LogisticRegression() ........................................\n"
     ]
    },
    {
     "name": "stderr",
     "output_type": "stream",
     "text": [
      "[Parallel(n_jobs=1)]: Using backend SequentialBackend with 1 concurrent workers.\n"
     ]
    },
    {
     "name": "stdout",
     "output_type": "stream",
     "text": [
      "[CV]  cls=LogisticRegression(), accuracy_score=(train=0.961, test=0.960), precision_score=(train=0.974, test=0.973), recall_score=(train=0.948, test=0.947), total=   3.4s\n",
      "[CV] cls=LogisticRegression() ........................................\n"
     ]
    },
    {
     "name": "stderr",
     "output_type": "stream",
     "text": [
      "[Parallel(n_jobs=1)]: Done   1 out of   1 | elapsed:    3.6s remaining:    0.0s\n"
     ]
    },
    {
     "name": "stdout",
     "output_type": "stream",
     "text": [
      "[CV]  cls=LogisticRegression(), accuracy_score=(train=0.961, test=0.961), precision_score=(train=0.974, test=0.974), recall_score=(train=0.948, test=0.949), total=   3.4s\n",
      "[CV] cls=LogisticRegression() ........................................\n"
     ]
    },
    {
     "name": "stderr",
     "output_type": "stream",
     "text": [
      "[Parallel(n_jobs=1)]: Done   2 out of   2 | elapsed:    7.4s remaining:    0.0s\n"
     ]
    },
    {
     "name": "stdout",
     "output_type": "stream",
     "text": [
      "[CV]  cls=LogisticRegression(), accuracy_score=(train=0.961, test=0.960), precision_score=(train=0.974, test=0.973), recall_score=(train=0.948, test=0.947), total=   3.4s\n",
      "[CV] cls=LogisticRegression() ........................................\n"
     ]
    },
    {
     "name": "stderr",
     "output_type": "stream",
     "text": [
      "[Parallel(n_jobs=1)]: Done   3 out of   3 | elapsed:   11.1s remaining:    0.0s\n"
     ]
    },
    {
     "name": "stdout",
     "output_type": "stream",
     "text": [
      "[CV]  cls=LogisticRegression(), accuracy_score=(train=0.961, test=0.961), precision_score=(train=0.974, test=0.973), recall_score=(train=0.947, test=0.949), total=   3.5s\n",
      "[CV] cls=LogisticRegression() ........................................\n"
     ]
    },
    {
     "name": "stderr",
     "output_type": "stream",
     "text": [
      "[Parallel(n_jobs=1)]: Done   4 out of   4 | elapsed:   14.9s remaining:    0.0s\n"
     ]
    },
    {
     "name": "stdout",
     "output_type": "stream",
     "text": [
      "[CV]  cls=LogisticRegression(), accuracy_score=(train=0.961, test=0.962), precision_score=(train=0.973, test=0.976), recall_score=(train=0.948, test=0.948), total=   3.5s\n",
      "[CV] cls=DecisionTreeClassifier() ....................................\n",
      "[CV]  cls=DecisionTreeClassifier(), accuracy_score=(train=1.000, test=1.000), precision_score=(train=1.000, test=1.000), recall_score=(train=1.000, test=1.000), total=   8.0s\n",
      "[CV] cls=DecisionTreeClassifier() ....................................\n",
      "[CV]  cls=DecisionTreeClassifier(), accuracy_score=(train=1.000, test=1.000), precision_score=(train=1.000, test=0.999), recall_score=(train=1.000, test=1.000), total=   7.9s\n",
      "[CV] cls=DecisionTreeClassifier() ....................................\n",
      "[CV]  cls=DecisionTreeClassifier(), accuracy_score=(train=1.000, test=1.000), precision_score=(train=1.000, test=0.999), recall_score=(train=1.000, test=1.000), total=   8.1s\n",
      "[CV] cls=DecisionTreeClassifier() ....................................\n",
      "[CV]  cls=DecisionTreeClassifier(), accuracy_score=(train=1.000, test=1.000), precision_score=(train=1.000, test=1.000), recall_score=(train=1.000, test=1.000), total=   8.2s\n",
      "[CV] cls=DecisionTreeClassifier() ....................................\n",
      "[CV]  cls=DecisionTreeClassifier(), accuracy_score=(train=1.000, test=1.000), precision_score=(train=1.000, test=1.000), recall_score=(train=1.000, test=1.000), total=   8.1s\n",
      "[CV] cls=RandomForestClassifier() ....................................\n",
      "[CV]  cls=RandomForestClassifier(), accuracy_score=(train=1.000, test=1.000), precision_score=(train=1.000, test=1.000), recall_score=(train=1.000, test=1.000), total= 1.4min\n",
      "[CV] cls=RandomForestClassifier() ....................................\n",
      "[CV]  cls=RandomForestClassifier(), accuracy_score=(train=1.000, test=1.000), precision_score=(train=1.000, test=1.000), recall_score=(train=1.000, test=1.000), total= 1.3min\n",
      "[CV] cls=RandomForestClassifier() ....................................\n",
      "[CV]  cls=RandomForestClassifier(), accuracy_score=(train=1.000, test=1.000), precision_score=(train=1.000, test=1.000), recall_score=(train=1.000, test=1.000), total= 1.4min\n",
      "[CV] cls=RandomForestClassifier() ....................................\n",
      "[CV]  cls=RandomForestClassifier(), accuracy_score=(train=1.000, test=1.000), precision_score=(train=1.000, test=1.000), recall_score=(train=1.000, test=1.000), total= 1.4min\n",
      "[CV] cls=RandomForestClassifier() ....................................\n",
      "[CV]  cls=RandomForestClassifier(), accuracy_score=(train=1.000, test=1.000), precision_score=(train=1.000, test=1.000), recall_score=(train=1.000, test=1.000), total= 1.4min\n",
      "[CV] cls=GaussianNB() ................................................\n",
      "[CV]  cls=GaussianNB(), accuracy_score=(train=0.909, test=0.910), precision_score=(train=0.970, test=0.971), recall_score=(train=0.843, test=0.844), total=   0.4s\n",
      "[CV] cls=GaussianNB() ................................................\n",
      "[CV]  cls=GaussianNB(), accuracy_score=(train=0.910, test=0.906), precision_score=(train=0.971, test=0.968), recall_score=(train=0.845, test=0.840), total=   0.4s\n",
      "[CV] cls=GaussianNB() ................................................\n",
      "[CV]  cls=GaussianNB(), accuracy_score=(train=0.909, test=0.908), precision_score=(train=0.969, test=0.969), recall_score=(train=0.844, test=0.843), total=   0.4s\n",
      "[CV] cls=GaussianNB() ................................................\n",
      "[CV]  cls=GaussianNB(), accuracy_score=(train=0.908, test=0.910), precision_score=(train=0.970, test=0.968), recall_score=(train=0.842, test=0.849), total=   0.4s\n",
      "[CV] cls=GaussianNB() ................................................\n",
      "[CV]  cls=GaussianNB(), accuracy_score=(train=0.909, test=0.910), precision_score=(train=0.970, test=0.973), recall_score=(train=0.844, test=0.843), total=   0.4s\n",
      "[CV] cls=BernoulliNB() ...............................................\n",
      "[CV]  cls=BernoulliNB(), accuracy_score=(train=0.895, test=0.896), precision_score=(train=0.991, test=0.991), recall_score=(train=0.798, test=0.798), total=   0.4s\n",
      "[CV] cls=BernoulliNB() ...............................................\n",
      "[CV]  cls=BernoulliNB(), accuracy_score=(train=0.896, test=0.894), precision_score=(train=0.991, test=0.990), recall_score=(train=0.798, test=0.795), total=   0.4s\n",
      "[CV] cls=BernoulliNB() ...............................................\n",
      "[CV]  cls=BernoulliNB(), accuracy_score=(train=0.896, test=0.894), precision_score=(train=0.991, test=0.991), recall_score=(train=0.799, test=0.795), total=   0.4s\n",
      "[CV] cls=BernoulliNB() ...............................................\n",
      "[CV]  cls=BernoulliNB(), accuracy_score=(train=0.894, test=0.898), precision_score=(train=0.991, test=0.990), recall_score=(train=0.796, test=0.804), total=   0.4s\n",
      "[CV] cls=BernoulliNB() ...............................................\n",
      "[CV]  cls=BernoulliNB(), accuracy_score=(train=0.895, test=0.895), precision_score=(train=0.991, test=0.991), recall_score=(train=0.798, test=0.797), total=   0.4s\n",
      "[CV] cls=LinearSVC() .................................................\n",
      "[CV]  cls=LinearSVC(), accuracy_score=(train=0.962, test=0.961), precision_score=(train=0.975, test=0.975), recall_score=(train=0.948, test=0.947), total=  40.8s\n",
      "[CV] cls=LinearSVC() .................................................\n",
      "[CV]  cls=LinearSVC(), accuracy_score=(train=0.959, test=0.960), precision_score=(train=0.976, test=0.976), recall_score=(train=0.942, test=0.943), total=  39.1s\n",
      "[CV] cls=LinearSVC() .................................................\n",
      "[CV]  cls=LinearSVC(), accuracy_score=(train=0.958, test=0.957), precision_score=(train=0.973, test=0.971), recall_score=(train=0.942, test=0.942), total=  41.4s\n",
      "[CV] cls=LinearSVC() .................................................\n",
      "[CV]  cls=LinearSVC(), accuracy_score=(train=0.959, test=0.959), precision_score=(train=0.975, test=0.974), recall_score=(train=0.942, test=0.943), total=  41.8s\n",
      "[CV] cls=LinearSVC() .................................................\n",
      "[CV]  cls=LinearSVC(), accuracy_score=(train=0.959, test=0.960), precision_score=(train=0.975, test=0.977), recall_score=(train=0.942, test=0.942), total=  42.7s\n"
     ]
    },
    {
     "name": "stderr",
     "output_type": "stream",
     "text": [
      "[Parallel(n_jobs=1)]: Done  30 out of  30 | elapsed: 11.7min finished\n"
     ]
    },
    {
     "data": {
      "text/plain": [
       "GridSearchCV(estimator=Pipeline(steps=[['cls', LogisticRegression()]]),\n",
       "             param_grid={'cls': [LogisticRegression(), DecisionTreeClassifier(),\n",
       "                                 RandomForestClassifier(), GaussianNB(),\n",
       "                                 BernoulliNB(), LinearSVC()]},\n",
       "             refit='recall_score', return_train_score=True,\n",
       "             scoring={'accuracy_score': make_scorer(accuracy_score),\n",
       "                      'precision_score': make_scorer(precision_score),\n",
       "                      'recall_score': make_scorer(recall_score)},\n",
       "             verbose=5)"
      ]
     },
     "execution_count": 65,
     "metadata": {},
     "output_type": "execute_result"
    }
   ],
   "source": [
    "# train model as a normal model with fit\n",
    "gridcv.fit(X_train_oversample, y_train_oversample)"
   ]
  },
  {
   "cell_type": "code",
   "execution_count": 66,
   "metadata": {
    "colab": {},
    "colab_type": "code",
    "id": "-uR58DtHgH7Q"
   },
   "outputs": [
    {
     "data": {
      "text/html": [
       "<div>\n",
       "<style scoped>\n",
       "    .dataframe tbody tr th:only-of-type {\n",
       "        vertical-align: middle;\n",
       "    }\n",
       "\n",
       "    .dataframe tbody tr th {\n",
       "        vertical-align: top;\n",
       "    }\n",
       "\n",
       "    .dataframe thead th {\n",
       "        text-align: right;\n",
       "    }\n",
       "</style>\n",
       "<table border=\"1\" class=\"dataframe\">\n",
       "  <thead>\n",
       "    <tr style=\"text-align: right;\">\n",
       "      <th></th>\n",
       "      <th>mean_test_precision_score</th>\n",
       "      <th>mean_test_recall_score</th>\n",
       "      <th>mean_test_accuracy_score</th>\n",
       "      <th>param_cls</th>\n",
       "    </tr>\n",
       "  </thead>\n",
       "  <tbody>\n",
       "    <tr>\n",
       "      <th>2</th>\n",
       "      <td>1.000</td>\n",
       "      <td>1.000</td>\n",
       "      <td>1.000</td>\n",
       "      <td>(DecisionTreeClassifier(max_features='auto', r...</td>\n",
       "    </tr>\n",
       "    <tr>\n",
       "      <th>1</th>\n",
       "      <td>0.999</td>\n",
       "      <td>1.000</td>\n",
       "      <td>1.000</td>\n",
       "      <td>DecisionTreeClassifier()</td>\n",
       "    </tr>\n",
       "    <tr>\n",
       "      <th>4</th>\n",
       "      <td>0.991</td>\n",
       "      <td>0.798</td>\n",
       "      <td>0.895</td>\n",
       "      <td>BernoulliNB()</td>\n",
       "    </tr>\n",
       "    <tr>\n",
       "      <th>5</th>\n",
       "      <td>0.975</td>\n",
       "      <td>0.943</td>\n",
       "      <td>0.959</td>\n",
       "      <td>LinearSVC()</td>\n",
       "    </tr>\n",
       "    <tr>\n",
       "      <th>0</th>\n",
       "      <td>0.974</td>\n",
       "      <td>0.948</td>\n",
       "      <td>0.961</td>\n",
       "      <td>LogisticRegression()</td>\n",
       "    </tr>\n",
       "  </tbody>\n",
       "</table>\n",
       "</div>"
      ],
      "text/plain": [
       "   mean_test_precision_score  mean_test_recall_score  \\\n",
       "2                      1.000                   1.000   \n",
       "1                      0.999                   1.000   \n",
       "4                      0.991                   0.798   \n",
       "5                      0.975                   0.943   \n",
       "0                      0.974                   0.948   \n",
       "\n",
       "   mean_test_accuracy_score                                          param_cls  \n",
       "2                     1.000  (DecisionTreeClassifier(max_features='auto', r...  \n",
       "1                     1.000                           DecisionTreeClassifier()  \n",
       "4                     0.895                                      BernoulliNB()  \n",
       "5                     0.959                                        LinearSVC()  \n",
       "0                     0.961                               LogisticRegression()  "
      ]
     },
     "execution_count": 66,
     "metadata": {},
     "output_type": "execute_result"
    }
   ],
   "source": [
    "results = pd.DataFrame(gridcv.cv_results_)\n",
    "results = results.sort_values(by='mean_test_precision_score', ascending=False)\n",
    "results[['mean_test_precision_score', 'mean_test_recall_score', 'mean_test_accuracy_score', 'param_cls']].round(3).head()"
   ]
  },
  {
   "cell_type": "code",
   "execution_count": 67,
   "metadata": {
    "colab": {},
    "colab_type": "code",
    "id": "k5r2UI48gH7S"
   },
   "outputs": [
    {
     "data": {
      "text/html": [
       "<div>\n",
       "<style scoped>\n",
       "    .dataframe tbody tr th:only-of-type {\n",
       "        vertical-align: middle;\n",
       "    }\n",
       "\n",
       "    .dataframe tbody tr th {\n",
       "        vertical-align: top;\n",
       "    }\n",
       "\n",
       "    .dataframe thead th {\n",
       "        text-align: right;\n",
       "    }\n",
       "</style>\n",
       "<table border=\"1\" class=\"dataframe\">\n",
       "  <thead>\n",
       "    <tr style=\"text-align: right;\">\n",
       "      <th></th>\n",
       "      <th>mean_fit_time</th>\n",
       "      <th>std_fit_time</th>\n",
       "      <th>mean_score_time</th>\n",
       "      <th>std_score_time</th>\n",
       "      <th>param_cls</th>\n",
       "      <th>params</th>\n",
       "      <th>split0_test_recall_score</th>\n",
       "      <th>split1_test_recall_score</th>\n",
       "      <th>split2_test_recall_score</th>\n",
       "      <th>split3_test_recall_score</th>\n",
       "      <th>...</th>\n",
       "      <th>mean_test_accuracy_score</th>\n",
       "      <th>std_test_accuracy_score</th>\n",
       "      <th>rank_test_accuracy_score</th>\n",
       "      <th>split0_train_accuracy_score</th>\n",
       "      <th>split1_train_accuracy_score</th>\n",
       "      <th>split2_train_accuracy_score</th>\n",
       "      <th>split3_train_accuracy_score</th>\n",
       "      <th>split4_train_accuracy_score</th>\n",
       "      <th>mean_train_accuracy_score</th>\n",
       "      <th>std_train_accuracy_score</th>\n",
       "    </tr>\n",
       "  </thead>\n",
       "  <tbody>\n",
       "    <tr>\n",
       "      <th>2</th>\n",
       "      <td>81.282480</td>\n",
       "      <td>1.687648</td>\n",
       "      <td>0.762954</td>\n",
       "      <td>0.008338</td>\n",
       "      <td>(DecisionTreeClassifier(max_features='auto', r...</td>\n",
       "      <td>{'cls': (DecisionTreeClassifier(max_features='...</td>\n",
       "      <td>1.000000</td>\n",
       "      <td>1.000000</td>\n",
       "      <td>1.000000</td>\n",
       "      <td>1.000000</td>\n",
       "      <td>...</td>\n",
       "      <td>0.999940</td>\n",
       "      <td>0.000037</td>\n",
       "      <td>1</td>\n",
       "      <td>1.000000</td>\n",
       "      <td>1.000000</td>\n",
       "      <td>1.000000</td>\n",
       "      <td>1.000000</td>\n",
       "      <td>1.000000</td>\n",
       "      <td>1.000000</td>\n",
       "      <td>0.000000</td>\n",
       "    </tr>\n",
       "    <tr>\n",
       "      <th>1</th>\n",
       "      <td>7.999037</td>\n",
       "      <td>0.084465</td>\n",
       "      <td>0.061947</td>\n",
       "      <td>0.000099</td>\n",
       "      <td>DecisionTreeClassifier()</td>\n",
       "      <td>{'cls': DecisionTreeClassifier()}</td>\n",
       "      <td>1.000000</td>\n",
       "      <td>1.000000</td>\n",
       "      <td>1.000000</td>\n",
       "      <td>1.000000</td>\n",
       "      <td>...</td>\n",
       "      <td>0.999740</td>\n",
       "      <td>0.000089</td>\n",
       "      <td>2</td>\n",
       "      <td>1.000000</td>\n",
       "      <td>1.000000</td>\n",
       "      <td>1.000000</td>\n",
       "      <td>1.000000</td>\n",
       "      <td>1.000000</td>\n",
       "      <td>1.000000</td>\n",
       "      <td>0.000000</td>\n",
       "    </tr>\n",
       "    <tr>\n",
       "      <th>4</th>\n",
       "      <td>0.302186</td>\n",
       "      <td>0.005071</td>\n",
       "      <td>0.111951</td>\n",
       "      <td>0.002683</td>\n",
       "      <td>BernoulliNB()</td>\n",
       "      <td>{'cls': BernoulliNB()}</td>\n",
       "      <td>0.798157</td>\n",
       "      <td>0.795352</td>\n",
       "      <td>0.794741</td>\n",
       "      <td>0.803807</td>\n",
       "      <td>...</td>\n",
       "      <td>0.895174</td>\n",
       "      <td>0.001552</td>\n",
       "      <td>6</td>\n",
       "      <td>0.895056</td>\n",
       "      <td>0.895550</td>\n",
       "      <td>0.895525</td>\n",
       "      <td>0.894449</td>\n",
       "      <td>0.895238</td>\n",
       "      <td>0.895164</td>\n",
       "      <td>0.000402</td>\n",
       "    </tr>\n",
       "    <tr>\n",
       "      <th>5</th>\n",
       "      <td>41.110393</td>\n",
       "      <td>1.201432</td>\n",
       "      <td>0.062402</td>\n",
       "      <td>0.004187</td>\n",
       "      <td>LinearSVC()</td>\n",
       "      <td>{'cls': LinearSVC()}</td>\n",
       "      <td>0.946659</td>\n",
       "      <td>0.943003</td>\n",
       "      <td>0.941598</td>\n",
       "      <td>0.943201</td>\n",
       "      <td>...</td>\n",
       "      <td>0.959450</td>\n",
       "      <td>0.001451</td>\n",
       "      <td>4</td>\n",
       "      <td>0.962041</td>\n",
       "      <td>0.959323</td>\n",
       "      <td>0.957977</td>\n",
       "      <td>0.959029</td>\n",
       "      <td>0.959073</td>\n",
       "      <td>0.959489</td>\n",
       "      <td>0.001357</td>\n",
       "    </tr>\n",
       "    <tr>\n",
       "      <th>0</th>\n",
       "      <td>3.414791</td>\n",
       "      <td>0.044428</td>\n",
       "      <td>0.060004</td>\n",
       "      <td>0.002262</td>\n",
       "      <td>LogisticRegression()</td>\n",
       "      <td>{'cls': LogisticRegression()}</td>\n",
       "      <td>0.946659</td>\n",
       "      <td>0.948613</td>\n",
       "      <td>0.946757</td>\n",
       "      <td>0.948861</td>\n",
       "      <td>...</td>\n",
       "      <td>0.961023</td>\n",
       "      <td>0.000768</td>\n",
       "      <td>3</td>\n",
       "      <td>0.961264</td>\n",
       "      <td>0.960939</td>\n",
       "      <td>0.961289</td>\n",
       "      <td>0.961083</td>\n",
       "      <td>0.960945</td>\n",
       "      <td>0.961104</td>\n",
       "      <td>0.000150</td>\n",
       "    </tr>\n",
       "  </tbody>\n",
       "</table>\n",
       "<p>5 rows × 51 columns</p>\n",
       "</div>"
      ],
      "text/plain": [
       "   mean_fit_time  std_fit_time  mean_score_time  std_score_time  \\\n",
       "2      81.282480      1.687648         0.762954        0.008338   \n",
       "1       7.999037      0.084465         0.061947        0.000099   \n",
       "4       0.302186      0.005071         0.111951        0.002683   \n",
       "5      41.110393      1.201432         0.062402        0.004187   \n",
       "0       3.414791      0.044428         0.060004        0.002262   \n",
       "\n",
       "                                           param_cls  \\\n",
       "2  (DecisionTreeClassifier(max_features='auto', r...   \n",
       "1                           DecisionTreeClassifier()   \n",
       "4                                      BernoulliNB()   \n",
       "5                                        LinearSVC()   \n",
       "0                               LogisticRegression()   \n",
       "\n",
       "                                              params  \\\n",
       "2  {'cls': (DecisionTreeClassifier(max_features='...   \n",
       "1                  {'cls': DecisionTreeClassifier()}   \n",
       "4                             {'cls': BernoulliNB()}   \n",
       "5                               {'cls': LinearSVC()}   \n",
       "0                      {'cls': LogisticRegression()}   \n",
       "\n",
       "   split0_test_recall_score  split1_test_recall_score  \\\n",
       "2                  1.000000                  1.000000   \n",
       "1                  1.000000                  1.000000   \n",
       "4                  0.798157                  0.795352   \n",
       "5                  0.946659                  0.943003   \n",
       "0                  0.946659                  0.948613   \n",
       "\n",
       "   split2_test_recall_score  split3_test_recall_score  ...  \\\n",
       "2                  1.000000                  1.000000  ...   \n",
       "1                  1.000000                  1.000000  ...   \n",
       "4                  0.794741                  0.803807  ...   \n",
       "5                  0.941598                  0.943201  ...   \n",
       "0                  0.946757                  0.948861  ...   \n",
       "\n",
       "   mean_test_accuracy_score  std_test_accuracy_score  \\\n",
       "2                  0.999940                 0.000037   \n",
       "1                  0.999740                 0.000089   \n",
       "4                  0.895174                 0.001552   \n",
       "5                  0.959450                 0.001451   \n",
       "0                  0.961023                 0.000768   \n",
       "\n",
       "   rank_test_accuracy_score  split0_train_accuracy_score  \\\n",
       "2                         1                     1.000000   \n",
       "1                         2                     1.000000   \n",
       "4                         6                     0.895056   \n",
       "5                         4                     0.962041   \n",
       "0                         3                     0.961264   \n",
       "\n",
       "   split1_train_accuracy_score  split2_train_accuracy_score  \\\n",
       "2                     1.000000                     1.000000   \n",
       "1                     1.000000                     1.000000   \n",
       "4                     0.895550                     0.895525   \n",
       "5                     0.959323                     0.957977   \n",
       "0                     0.960939                     0.961289   \n",
       "\n",
       "   split3_train_accuracy_score  split4_train_accuracy_score  \\\n",
       "2                     1.000000                     1.000000   \n",
       "1                     1.000000                     1.000000   \n",
       "4                     0.894449                     0.895238   \n",
       "5                     0.959029                     0.959073   \n",
       "0                     0.961083                     0.960945   \n",
       "\n",
       "   mean_train_accuracy_score  std_train_accuracy_score  \n",
       "2                   1.000000                  0.000000  \n",
       "1                   1.000000                  0.000000  \n",
       "4                   0.895164                  0.000402  \n",
       "5                   0.959489                  0.001357  \n",
       "0                   0.961104                  0.000150  \n",
       "\n",
       "[5 rows x 51 columns]"
      ]
     },
     "execution_count": 67,
     "metadata": {},
     "output_type": "execute_result"
    }
   ],
   "source": [
    "results.head()"
   ]
  }
 ],
 "metadata": {
  "colab": {
   "collapsed_sections": [
    "EV2ga-GugH6X",
    "BLNjpqmkgH6d",
    "yelSDnw1gH6g",
    "wwNfv5k6gH6m",
    "ma7JOGd_gH6o",
    "3Zw-eFcSgH6v"
   ],
   "name": "Week6-Lab-Solution.ipynb",
   "provenance": [],
   "toc_visible": true
  },
  "kernelspec": {
   "display_name": "Python 3",
   "language": "python",
   "name": "python3"
  }
 },
 "nbformat": 4,
 "nbformat_minor": 1
}
